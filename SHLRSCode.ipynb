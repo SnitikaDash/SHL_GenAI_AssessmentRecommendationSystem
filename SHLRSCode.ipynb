{
  "cells": [
    {
      "cell_type": "markdown",
      "metadata": {
        "id": "view-in-github",
        "colab_type": "text"
      },
      "source": [
        "<a href=\"https://colab.research.google.com/github/SnitikaDash/SHL_GenAI_AssessmentRecommendationSystem/blob/main/SHLRSCode.ipynb\" target=\"_parent\"><img src=\"https://colab.research.google.com/assets/colab-badge.svg\" alt=\"Open In Colab\"/></a>"
      ]
    },
    {
      "cell_type": "code",
      "execution_count": null,
      "metadata": {
        "colab": {
          "base_uri": "https://localhost:8080/"
        },
        "id": "5jA75j8p2VHJ",
        "outputId": "fcd8522a-ea61-4b47-80e2-8239d38f179c"
      },
      "outputs": [
        {
          "output_type": "stream",
          "name": "stdout",
          "text": [
            "Collecting selenium\n",
            "  Downloading selenium-4.31.0-py3-none-any.whl.metadata (7.5 kB)\n",
            "Collecting webdriver-manager\n",
            "  Downloading webdriver_manager-4.0.2-py2.py3-none-any.whl.metadata (12 kB)\n",
            "Requirement already satisfied: beautifulsoup4 in /usr/local/lib/python3.11/dist-packages (4.13.3)\n",
            "Requirement already satisfied: urllib3<3,>=1.26 in /usr/local/lib/python3.11/dist-packages (from urllib3[socks]<3,>=1.26->selenium) (2.3.0)\n",
            "Collecting trio~=0.17 (from selenium)\n",
            "  Downloading trio-0.29.0-py3-none-any.whl.metadata (8.5 kB)\n",
            "Collecting trio-websocket~=0.9 (from selenium)\n",
            "  Downloading trio_websocket-0.12.2-py3-none-any.whl.metadata (5.1 kB)\n",
            "Requirement already satisfied: certifi>=2021.10.8 in /usr/local/lib/python3.11/dist-packages (from selenium) (2025.1.31)\n",
            "Requirement already satisfied: typing_extensions~=4.9 in /usr/local/lib/python3.11/dist-packages (from selenium) (4.13.1)\n",
            "Requirement already satisfied: websocket-client~=1.8 in /usr/local/lib/python3.11/dist-packages (from selenium) (1.8.0)\n",
            "Requirement already satisfied: requests in /usr/local/lib/python3.11/dist-packages (from webdriver-manager) (2.32.3)\n",
            "Collecting python-dotenv (from webdriver-manager)\n",
            "  Downloading python_dotenv-1.1.0-py3-none-any.whl.metadata (24 kB)\n",
            "Requirement already satisfied: packaging in /usr/local/lib/python3.11/dist-packages (from webdriver-manager) (24.2)\n",
            "Requirement already satisfied: soupsieve>1.2 in /usr/local/lib/python3.11/dist-packages (from beautifulsoup4) (2.6)\n",
            "Requirement already satisfied: attrs>=23.2.0 in /usr/local/lib/python3.11/dist-packages (from trio~=0.17->selenium) (25.3.0)\n",
            "Requirement already satisfied: sortedcontainers in /usr/local/lib/python3.11/dist-packages (from trio~=0.17->selenium) (2.4.0)\n",
            "Requirement already satisfied: idna in /usr/local/lib/python3.11/dist-packages (from trio~=0.17->selenium) (3.10)\n",
            "Collecting outcome (from trio~=0.17->selenium)\n",
            "  Downloading outcome-1.3.0.post0-py2.py3-none-any.whl.metadata (2.6 kB)\n",
            "Requirement already satisfied: sniffio>=1.3.0 in /usr/local/lib/python3.11/dist-packages (from trio~=0.17->selenium) (1.3.1)\n",
            "Collecting wsproto>=0.14 (from trio-websocket~=0.9->selenium)\n",
            "  Downloading wsproto-1.2.0-py3-none-any.whl.metadata (5.6 kB)\n",
            "Requirement already satisfied: pysocks!=1.5.7,<2.0,>=1.5.6 in /usr/local/lib/python3.11/dist-packages (from urllib3[socks]<3,>=1.26->selenium) (1.7.1)\n",
            "Requirement already satisfied: charset-normalizer<4,>=2 in /usr/local/lib/python3.11/dist-packages (from requests->webdriver-manager) (3.4.1)\n",
            "Requirement already satisfied: h11<1,>=0.9.0 in /usr/local/lib/python3.11/dist-packages (from wsproto>=0.14->trio-websocket~=0.9->selenium) (0.14.0)\n",
            "Downloading selenium-4.31.0-py3-none-any.whl (9.4 MB)\n",
            "\u001b[2K   \u001b[90m━━━━━━━━━━━━━━━━━━━━━━━━━━━━━━━━━━━━━━━━\u001b[0m \u001b[32m9.4/9.4 MB\u001b[0m \u001b[31m64.4 MB/s\u001b[0m eta \u001b[36m0:00:00\u001b[0m\n",
            "\u001b[?25hDownloading webdriver_manager-4.0.2-py2.py3-none-any.whl (27 kB)\n",
            "Downloading trio-0.29.0-py3-none-any.whl (492 kB)\n",
            "\u001b[2K   \u001b[90m━━━━━━━━━━━━━━━━━━━━━━━━━━━━━━━━━━━━━━━━\u001b[0m \u001b[32m492.9/492.9 kB\u001b[0m \u001b[31m30.2 MB/s\u001b[0m eta \u001b[36m0:00:00\u001b[0m\n",
            "\u001b[?25hDownloading trio_websocket-0.12.2-py3-none-any.whl (21 kB)\n",
            "Downloading python_dotenv-1.1.0-py3-none-any.whl (20 kB)\n",
            "Downloading outcome-1.3.0.post0-py2.py3-none-any.whl (10 kB)\n",
            "Downloading wsproto-1.2.0-py3-none-any.whl (24 kB)\n",
            "Installing collected packages: wsproto, python-dotenv, outcome, webdriver-manager, trio, trio-websocket, selenium\n",
            "Successfully installed outcome-1.3.0.post0 python-dotenv-1.1.0 selenium-4.31.0 trio-0.29.0 trio-websocket-0.12.2 webdriver-manager-4.0.2 wsproto-1.2.0\n"
          ]
        }
      ],
      "source": [
        "!pip install selenium webdriver-manager beautifulsoup4\n"
      ]
    },
    {
      "cell_type": "code",
      "execution_count": null,
      "metadata": {
        "colab": {
          "base_uri": "https://localhost:8080/"
        },
        "id": "2a1oFyD22jLJ",
        "outputId": "df05e48f-9128-4873-af76-4f81b1e31876"
      },
      "outputs": [
        {
          "output_type": "stream",
          "name": "stdout",
          "text": [
            "Hit:1 https://developer.download.nvidia.com/compute/cuda/repos/ubuntu2204/x86_64  InRelease\n",
            "Hit:2 http://archive.ubuntu.com/ubuntu jammy InRelease\n",
            "Get:3 http://security.ubuntu.com/ubuntu jammy-security InRelease [129 kB]\n",
            "Get:4 https://cloud.r-project.org/bin/linux/ubuntu jammy-cran40/ InRelease [3,632 B]\n",
            "Get:5 https://r2u.stat.illinois.edu/ubuntu jammy InRelease [6,555 B]\n",
            "Get:6 http://archive.ubuntu.com/ubuntu jammy-updates InRelease [128 kB]\n",
            "Hit:7 https://ppa.launchpadcontent.net/deadsnakes/ppa/ubuntu jammy InRelease\n",
            "Hit:8 https://ppa.launchpadcontent.net/graphics-drivers/ppa/ubuntu jammy InRelease\n",
            "Hit:9 https://ppa.launchpadcontent.net/ubuntugis/ppa/ubuntu jammy InRelease\n",
            "Get:10 http://archive.ubuntu.com/ubuntu jammy-backports InRelease [127 kB]\n",
            "Get:11 https://r2u.stat.illinois.edu/ubuntu jammy/main all Packages [8,804 kB]\n",
            "Get:12 https://r2u.stat.illinois.edu/ubuntu jammy/main amd64 Packages [2,683 kB]\n",
            "Get:13 http://security.ubuntu.com/ubuntu jammy-security/main amd64 Packages [2,783 kB]\n",
            "Get:14 http://archive.ubuntu.com/ubuntu jammy-updates/main amd64 Packages [3,097 kB]\n",
            "Get:15 http://security.ubuntu.com/ubuntu jammy-security/restricted amd64 Packages [3,994 kB]\n",
            "Get:16 http://security.ubuntu.com/ubuntu jammy-security/universe amd64 Packages [1,243 kB]\n",
            "Get:17 http://archive.ubuntu.com/ubuntu jammy-updates/restricted amd64 Packages [4,154 kB]\n",
            "Get:18 http://archive.ubuntu.com/ubuntu jammy-updates/universe amd64 Packages [1,540 kB]\n",
            "Fetched 28.7 MB in 3s (8,600 kB/s)\n",
            "Reading package lists... Done\n",
            "W: Skipping acquire of configured file 'main/source/Sources' as repository 'https://r2u.stat.illinois.edu/ubuntu jammy InRelease' does not seem to provide it (sources.list entry misspelt?)\n",
            "Reading package lists... Done\n",
            "Building dependency tree... Done\n",
            "Reading state information... Done\n",
            "The following additional packages will be installed:\n",
            "  apparmor chromium-browser libfuse3-3 libudev1 snapd squashfs-tools systemd-hwe-hwdb udev\n",
            "Suggested packages:\n",
            "  apparmor-profiles-extra apparmor-utils fuse3 zenity | kdialog\n",
            "The following NEW packages will be installed:\n",
            "  apparmor chromium-browser chromium-chromedriver libfuse3-3 snapd squashfs-tools systemd-hwe-hwdb\n",
            "  udev\n",
            "The following packages will be upgraded:\n",
            "  libudev1\n",
            "1 upgraded, 8 newly installed, 0 to remove and 36 not upgraded.\n",
            "Need to get 30.3 MB of archives.\n",
            "After this operation, 123 MB of additional disk space will be used.\n",
            "Get:1 http://archive.ubuntu.com/ubuntu jammy-updates/main amd64 apparmor amd64 3.0.4-2ubuntu2.4 [598 kB]\n",
            "Get:2 http://archive.ubuntu.com/ubuntu jammy/main amd64 squashfs-tools amd64 1:4.5-3build1 [159 kB]\n",
            "Get:3 http://archive.ubuntu.com/ubuntu jammy-updates/main amd64 libudev1 amd64 249.11-0ubuntu3.15 [76.6 kB]\n",
            "Get:4 http://archive.ubuntu.com/ubuntu jammy-updates/main amd64 udev amd64 249.11-0ubuntu3.15 [1,557 kB]\n",
            "Get:5 http://archive.ubuntu.com/ubuntu jammy/main amd64 libfuse3-3 amd64 3.10.5-1build1 [81.2 kB]\n",
            "Get:6 http://archive.ubuntu.com/ubuntu jammy-updates/main amd64 snapd amd64 2.67.1+22.04 [27.8 MB]\n",
            "Get:7 http://archive.ubuntu.com/ubuntu jammy-updates/universe amd64 chromium-browser amd64 1:85.0.4183.83-0ubuntu2.22.04.1 [49.2 kB]\n",
            "Get:8 http://archive.ubuntu.com/ubuntu jammy-updates/universe amd64 chromium-chromedriver amd64 1:85.0.4183.83-0ubuntu2.22.04.1 [2,308 B]\n",
            "Get:9 http://archive.ubuntu.com/ubuntu jammy-updates/main amd64 systemd-hwe-hwdb all 249.11.5 [3,228 B]\n",
            "Fetched 30.3 MB in 2s (17.5 MB/s)\n",
            "Preconfiguring packages ...\n",
            "Selecting previously unselected package apparmor.\n",
            "(Reading database ... 126213 files and directories currently installed.)\n",
            "Preparing to unpack .../apparmor_3.0.4-2ubuntu2.4_amd64.deb ...\n",
            "Unpacking apparmor (3.0.4-2ubuntu2.4) ...\n",
            "Selecting previously unselected package squashfs-tools.\n",
            "Preparing to unpack .../squashfs-tools_1%3a4.5-3build1_amd64.deb ...\n",
            "Unpacking squashfs-tools (1:4.5-3build1) ...\n",
            "Preparing to unpack .../libudev1_249.11-0ubuntu3.15_amd64.deb ...\n",
            "Unpacking libudev1:amd64 (249.11-0ubuntu3.15) over (249.11-0ubuntu3.12) ...\n",
            "Setting up libudev1:amd64 (249.11-0ubuntu3.15) ...\n",
            "Selecting previously unselected package udev.\n",
            "(Reading database ... 126413 files and directories currently installed.)\n",
            "Preparing to unpack .../udev_249.11-0ubuntu3.15_amd64.deb ...\n",
            "Unpacking udev (249.11-0ubuntu3.15) ...\n",
            "Selecting previously unselected package libfuse3-3:amd64.\n",
            "Preparing to unpack .../libfuse3-3_3.10.5-1build1_amd64.deb ...\n",
            "Unpacking libfuse3-3:amd64 (3.10.5-1build1) ...\n",
            "Selecting previously unselected package snapd.\n",
            "Preparing to unpack .../snapd_2.67.1+22.04_amd64.deb ...\n",
            "Unpacking snapd (2.67.1+22.04) ...\n",
            "Setting up apparmor (3.0.4-2ubuntu2.4) ...\n",
            "Created symlink /etc/systemd/system/sysinit.target.wants/apparmor.service → /lib/systemd/system/apparmor.service.\n",
            "Setting up squashfs-tools (1:4.5-3build1) ...\n",
            "Setting up udev (249.11-0ubuntu3.15) ...\n",
            "invoke-rc.d: could not determine current runlevel\n",
            "invoke-rc.d: policy-rc.d denied execution of start.\n",
            "Setting up libfuse3-3:amd64 (3.10.5-1build1) ...\n",
            "Setting up snapd (2.67.1+22.04) ...\n",
            "Created symlink /etc/systemd/system/multi-user.target.wants/snapd.apparmor.service → /lib/systemd/system/snapd.apparmor.service.\n",
            "Created symlink /etc/systemd/system/multi-user.target.wants/snapd.autoimport.service → /lib/systemd/system/snapd.autoimport.service.\n",
            "Created symlink /etc/systemd/system/multi-user.target.wants/snapd.core-fixup.service → /lib/systemd/system/snapd.core-fixup.service.\n",
            "Created symlink /etc/systemd/system/multi-user.target.wants/snapd.recovery-chooser-trigger.service → /lib/systemd/system/snapd.recovery-chooser-trigger.service.\n",
            "Created symlink /etc/systemd/system/multi-user.target.wants/snapd.seeded.service → /lib/systemd/system/snapd.seeded.service.\n",
            "Created symlink /etc/systemd/system/cloud-final.service.wants/snapd.seeded.service → /lib/systemd/system/snapd.seeded.service.\n",
            "Unit /lib/systemd/system/snapd.seeded.service is added as a dependency to a non-existent unit cloud-final.service.\n",
            "Created symlink /etc/systemd/system/multi-user.target.wants/snapd.service → /lib/systemd/system/snapd.service.\n",
            "Created symlink /etc/systemd/system/timers.target.wants/snapd.snap-repair.timer → /lib/systemd/system/snapd.snap-repair.timer.\n",
            "Created symlink /etc/systemd/system/sockets.target.wants/snapd.socket → /lib/systemd/system/snapd.socket.\n",
            "Created symlink /etc/systemd/system/final.target.wants/snapd.system-shutdown.service → /lib/systemd/system/snapd.system-shutdown.service.\n",
            "Selecting previously unselected package chromium-browser.\n",
            "(Reading database ... 126642 files and directories currently installed.)\n",
            "Preparing to unpack .../chromium-browser_1%3a85.0.4183.83-0ubuntu2.22.04.1_amd64.deb ...\n",
            "=> Installing the chromium snap\n",
            "==> Checking connectivity with the snap store\n",
            "===> System doesn't have a working snapd, skipping\n",
            "Unpacking chromium-browser (1:85.0.4183.83-0ubuntu2.22.04.1) ...\n",
            "Selecting previously unselected package chromium-chromedriver.\n",
            "Preparing to unpack .../chromium-chromedriver_1%3a85.0.4183.83-0ubuntu2.22.04.1_amd64.deb ...\n",
            "Unpacking chromium-chromedriver (1:85.0.4183.83-0ubuntu2.22.04.1) ...\n",
            "Selecting previously unselected package systemd-hwe-hwdb.\n",
            "Preparing to unpack .../systemd-hwe-hwdb_249.11.5_all.deb ...\n",
            "Unpacking systemd-hwe-hwdb (249.11.5) ...\n",
            "Setting up systemd-hwe-hwdb (249.11.5) ...\n",
            "Setting up chromium-browser (1:85.0.4183.83-0ubuntu2.22.04.1) ...\n",
            "update-alternatives: using /usr/bin/chromium-browser to provide /usr/bin/x-www-browser (x-www-browser) in auto mode\n",
            "update-alternatives: using /usr/bin/chromium-browser to provide /usr/bin/gnome-www-browser (gnome-www-browser) in auto mode\n",
            "Setting up chromium-chromedriver (1:85.0.4183.83-0ubuntu2.22.04.1) ...\n",
            "Processing triggers for udev (249.11-0ubuntu3.15) ...\n",
            "Processing triggers for mailcap (3.70+nmu1ubuntu1) ...\n",
            "Processing triggers for hicolor-icon-theme (0.17-2) ...\n",
            "Processing triggers for libc-bin (2.35-0ubuntu3.8) ...\n",
            "/sbin/ldconfig.real: /usr/local/lib/libtcm.so.1 is not a symbolic link\n",
            "\n",
            "/sbin/ldconfig.real: /usr/local/lib/libhwloc.so.15 is not a symbolic link\n",
            "\n",
            "/sbin/ldconfig.real: /usr/local/lib/libtbb.so.12 is not a symbolic link\n",
            "\n",
            "/sbin/ldconfig.real: /usr/local/lib/libtbbbind.so.3 is not a symbolic link\n",
            "\n",
            "/sbin/ldconfig.real: /usr/local/lib/libtcm_debug.so.1 is not a symbolic link\n",
            "\n",
            "/sbin/ldconfig.real: /usr/local/lib/libtbbbind_2_0.so.3 is not a symbolic link\n",
            "\n",
            "/sbin/ldconfig.real: /usr/local/lib/libtbbbind_2_5.so.3 is not a symbolic link\n",
            "\n",
            "/sbin/ldconfig.real: /usr/local/lib/libtbbmalloc_proxy.so.2 is not a symbolic link\n",
            "\n",
            "/sbin/ldconfig.real: /usr/local/lib/libtbbmalloc.so.2 is not a symbolic link\n",
            "\n",
            "/sbin/ldconfig.real: /usr/local/lib/libumf.so.0 is not a symbolic link\n",
            "\n",
            "/sbin/ldconfig.real: /usr/local/lib/libur_adapter_level_zero.so.0 is not a symbolic link\n",
            "\n",
            "/sbin/ldconfig.real: /usr/local/lib/libur_adapter_opencl.so.0 is not a symbolic link\n",
            "\n",
            "/sbin/ldconfig.real: /usr/local/lib/libur_loader.so.0 is not a symbolic link\n",
            "\n",
            "Processing triggers for man-db (2.10.2-1) ...\n",
            "Processing triggers for dbus (1.12.20-2ubuntu4.1) ...\n",
            "cp: '/usr/lib/chromium-browser/chromedriver' and '/usr/bin/chromedriver' are the same file\n"
          ]
        }
      ],
      "source": [
        "!apt-get update\n",
        "!apt-get install -y chromium-chromedriver\n",
        "!cp /usr/lib/chromium-browser/chromedriver /usr/bin\n"
      ]
    },
    {
      "cell_type": "code",
      "execution_count": null,
      "metadata": {
        "id": "Q3aK3Epu2tMe"
      },
      "outputs": [],
      "source": [
        "import requests\n",
        "from bs4 import BeautifulSoup\n",
        "import pandas as pd\n",
        "from selenium import webdriver\n",
        "from selenium.webdriver.common.by import By\n",
        "from selenium.webdriver.chrome.options import Options\n",
        "import time\n",
        "import re\n"
      ]
    },
    {
      "cell_type": "code",
      "execution_count": null,
      "metadata": {
        "id": "uXDNcq6w2woG"
      },
      "outputs": [],
      "source": [
        "chrome_options = Options()\n",
        "chrome_options.add_argument(\"--headless\")  # Run in headless mode\n",
        "chrome_options.add_argument(\"--no-sandbox\")\n",
        "chrome_options.add_argument(\"--disable-dev-shm-usage\")\n",
        "\n",
        "# Set path for ChromeDriver (installed in previous step)\n",
        "driver = webdriver.Chrome(options=chrome_options)\n"
      ]
    },
    {
      "cell_type": "code",
      "execution_count": null,
      "metadata": {
        "id": "h-tQsqKF215s"
      },
      "outputs": [],
      "source": [
        "def extract_metadata_from_text(page_text):\n",
        "    metadata = {\n",
        "        \"Duration\": \"Not found\",\n",
        "        \"Test Type\": \"Not found\",\n",
        "        \"Remote Testing Support\": \"Not found\",\n",
        "        \"Adaptive/IRT Support\": \"Not found\"\n",
        "    }\n",
        "\n",
        "    # Duration (new pattern)\n",
        "    duration_match = re.search(r'Completion Time.*?=\\s*(\\d+)', page_text, re.IGNORECASE)\n",
        "    if duration_match:\n",
        "        metadata[\"Duration\"] = f\"{duration_match.group(1)} minutes\"\n",
        "\n",
        "    # Test Type (look for single letter codes like B, P, R etc.)\n",
        "    test_type_match = re.search(r'Test Type:\\s*([A-Z](?:\\s*[A-Z])*)', page_text)\n",
        "    if test_type_match:\n",
        "        metadata[\"Test Type\"] = test_type_match.group(1).strip()\n",
        "\n",
        "    # Remote Testing (try variations)\n",
        "    remote_testing_match = re.search(r'Remote Testing:\\s*(Yes|No|Available|Not available)', page_text, re.IGNORECASE)\n",
        "    if remote_testing_match:\n",
        "        metadata[\"Remote Testing Support\"] = remote_testing_match.group(1).strip()\n",
        "\n",
        "    # Adaptive/IRT Support\n",
        "    if re.search(r'\\b(adaptive|IRT|Item Response Theory)\\b', page_text, re.IGNORECASE):\n",
        "        metadata[\"Adaptive/IRT Support\"] = \"Yes\"\n",
        "\n",
        "    return metadata\n"
      ]
    },
    {
      "cell_type": "code",
      "execution_count": null,
      "metadata": {
        "colab": {
          "base_uri": "https://localhost:8080/"
        },
        "id": "r0PRRYYt26Bo",
        "outputId": "727ca35d-8335-4f55-89fa-fc0eb0bf7ba9"
      },
      "outputs": [
        {
          "output_type": "stream",
          "name": "stdout",
          "text": [
            "✅ Loaded: https://www.shl.com/en/assessments/\n"
          ]
        }
      ],
      "source": [
        "data = []\n",
        "product_urls = [\"https://www.shl.com/en/assessments/\"]  # Example URL list\n",
        "\n",
        "for url in product_urls:\n",
        "    driver.get(url)\n",
        "    time.sleep(5)  # Allow time for the page to load\n",
        "\n",
        "    try:\n",
        "        text = driver.find_element(By.TAG_NAME, \"body\").text\n",
        "        print(f\"✅ Loaded: {url}\")\n",
        "    except:\n",
        "        print(f\"❌ Failed to load: {url}\")\n",
        "        text = \"\"\n",
        "\n",
        "    # Extract metadata\n",
        "    metadata = extract_metadata_from_text(text)\n",
        "    data.append({\n",
        "        'URL': url,\n",
        "        'Duration': metadata[\"Duration\"],\n",
        "        'Test Type': metadata[\"Test Type\"],\n",
        "        'Remote Testing Support': metadata[\"Remote Testing Support\"],\n",
        "        'Adaptive/IRT Support': metadata[\"Adaptive/IRT Support\"]\n",
        "    })\n"
      ]
    },
    {
      "cell_type": "code",
      "execution_count": null,
      "metadata": {
        "id": "g2famHG32-6G"
      },
      "outputs": [],
      "source": [
        "url = \"https://www.shl.com/en/assessments/\"\n",
        "headers = {\n",
        "    \"User-Agent\": \"Mozilla/5.0 (X11; Linux x86_64) AppleWebKit/537.36 (KHTML, like Gecko) Chrome/117.0.0.0 Safari/537.36\"\n",
        "}\n",
        "\n",
        "response = requests.get(url, headers=headers)\n",
        "soup = BeautifulSoup(response.text, 'html.parser')\n"
      ]
    },
    {
      "cell_type": "code",
      "execution_count": null,
      "metadata": {
        "colab": {
          "base_uri": "https://localhost:8080/"
        },
        "id": "YAd8TrCs3Bxw",
        "outputId": "41b0630c-bf80-4826-a09e-207a5d40817e"
      },
      "outputs": [
        {
          "output_type": "stream",
          "name": "stdout",
          "text": [
            "['Outdated browser detected', 'Make Wise Talent Decisions', 'Drive Hiring Efficiency', 'Delight Your Candidates', '', 'Our Unmatched Portfolio of Assessments', 'Behavioral Assessments', 'Virtual Assessment & Development Centers', 'Personality Assessments', 'Cognitive Assessments']\n"
          ]
        }
      ],
      "source": [
        "# Example: Extract all assessment titles\n",
        "titles = [tag.get_text(strip=True) for tag in soup.select(\"h2, h3\")]\n",
        "print(titles[:10])\n",
        "\n",
        "# Extract assessment cards or sections\n",
        "sections = soup.find_all('section')  # Or use class-based selectors\n",
        "for sec in sections:\n",
        "    heading = sec.find(['h2', 'h3'])\n",
        "    para = sec.find('p')\n",
        "    if heading and para:\n",
        "        print(\"Title:\", heading.get_text(strip=True))\n",
        "        print(\"Description:\", para.get_text(strip=True))\n",
        "        print(\"---\")\n"
      ]
    },
    {
      "cell_type": "code",
      "execution_count": null,
      "metadata": {
        "colab": {
          "base_uri": "https://localhost:8080/"
        },
        "id": "wVr-YixV3Edl",
        "outputId": "41e0039b-953a-4dba-8150-a9cc0184a565"
      },
      "outputs": [
        {
          "output_type": "stream",
          "name": "stdout",
          "text": [
            "Saved: (0, 0)\n"
          ]
        }
      ],
      "source": [
        "data = []\n",
        "\n",
        "# Assuming sections contains the relevant data\n",
        "sections = soup.find_all('section')\n",
        "for sec in sections:\n",
        "    heading = sec.find(['h2', 'h3'])\n",
        "    para = sec.find('p')\n",
        "    if heading and para:\n",
        "        title = heading.get_text(strip=True)\n",
        "        description = para.get_text(strip=True)\n",
        "        data.append({\n",
        "            \"title\": title,\n",
        "            \"description\": description\n",
        "        })\n",
        "\n",
        "# Convert to DataFrame\n",
        "df = pd.DataFrame(data)\n",
        "df.to_csv(\"shl_assessments.csv\", index=False)\n",
        "print(\"Saved:\", df.shape)\n"
      ]
    },
    {
      "cell_type": "code",
      "execution_count": null,
      "metadata": {
        "colab": {
          "base_uri": "https://localhost:8080/"
        },
        "id": "gUFokkcs5BUR",
        "outputId": "df31b1d7-17ab-4e0b-82b3-6a599c4d81d7"
      },
      "outputs": [
        {
          "output_type": "stream",
          "name": "stdout",
          "text": [
            "RangeIndex(start=0, stop=0, step=1)\n",
            "Empty DataFrame\n",
            "Columns: []\n",
            "Index: []\n"
          ]
        }
      ],
      "source": [
        "# Check the columns in the DataFrame\n",
        "print(df.columns)\n",
        "\n",
        "# Check the first few rows of the DataFrame\n",
        "print(df.head())\n"
      ]
    },
    {
      "cell_type": "code",
      "execution_count": null,
      "metadata": {
        "colab": {
          "base_uri": "https://localhost:8080/"
        },
        "id": "sCwidiPu4_xI",
        "outputId": "72914b5a-947e-48c1-a6f4-e62f20f58827"
      },
      "outputs": [
        {
          "output_type": "stream",
          "name": "stdout",
          "text": [
            "RangeIndex(start=0, stop=0, step=1)\n",
            "Empty DataFrame\n",
            "Columns: []\n",
            "Index: []\n"
          ]
        }
      ],
      "source": [
        "data = []\n",
        "\n",
        "# Scrape all sections\n",
        "sections = soup.find_all('section')\n",
        "for sec in sections:\n",
        "    heading = sec.find(['h2', 'h3'])\n",
        "    para = sec.find('p')\n",
        "    if heading and para:\n",
        "        title = heading.get_text(strip=True)\n",
        "        description = para.get_text(strip=True)\n",
        "        data.append({\n",
        "            \"title\": title,\n",
        "            \"description\": description\n",
        "        })\n",
        "\n",
        "# Check the DataFrame after extraction\n",
        "df = pd.DataFrame(data)\n",
        "\n",
        "# Print column names and first few rows to verify correct extraction\n",
        "print(df.columns)\n",
        "print(df.head())\n",
        "\n"
      ]
    },
    {
      "cell_type": "code",
      "execution_count": null,
      "metadata": {
        "colab": {
          "base_uri": "https://localhost:8080/"
        },
        "id": "hyAv8jyZ67O1",
        "outputId": "0bbb8f13-619f-4bd2-8bd0-93b06a36298a"
      },
      "outputs": [
        {
          "output_type": "stream",
          "name": "stdout",
          "text": [
            "Hit:1 https://developer.download.nvidia.com/compute/cuda/repos/ubuntu2204/x86_64  InRelease\n",
            "Hit:2 http://security.ubuntu.com/ubuntu jammy-security InRelease\n",
            "Hit:3 https://cloud.r-project.org/bin/linux/ubuntu jammy-cran40/ InRelease\n",
            "Hit:4 http://archive.ubuntu.com/ubuntu jammy InRelease\n",
            "Hit:5 https://r2u.stat.illinois.edu/ubuntu jammy InRelease\n",
            "Hit:6 http://archive.ubuntu.com/ubuntu jammy-updates InRelease\n",
            "Hit:7 http://archive.ubuntu.com/ubuntu jammy-backports InRelease\n",
            "Hit:8 https://ppa.launchpadcontent.net/deadsnakes/ppa/ubuntu jammy InRelease\n",
            "Hit:9 https://ppa.launchpadcontent.net/graphics-drivers/ppa/ubuntu jammy InRelease\n",
            "Hit:10 https://ppa.launchpadcontent.net/ubuntugis/ppa/ubuntu jammy InRelease\n",
            "Reading package lists... Done\n",
            "Building dependency tree... Done\n",
            "Reading state information... Done\n",
            "36 packages can be upgraded. Run 'apt list --upgradable' to see them.\n",
            "\u001b[1;33mW: \u001b[0mSkipping acquire of configured file 'main/source/Sources' as repository 'https://r2u.stat.illinois.edu/ubuntu jammy InRelease' does not seem to provide it (sources.list entry misspelt?)\u001b[0m\n",
            "Reading package lists... Done\n",
            "Building dependency tree... Done\n",
            "Reading state information... Done\n",
            "libasound2 is already the newest version (1.2.6.1-1ubuntu1).\n",
            "libasound2 set to manually installed.\n",
            "libnss3 is already the newest version (2:3.98-0ubuntu0.22.04.2).\n",
            "libnss3 set to manually installed.\n",
            "chromium-browser is already the newest version (1:85.0.4183.83-0ubuntu2.22.04.1).\n",
            "chromium-browser set to manually installed.\n",
            "chromium-chromedriver is already the newest version (1:85.0.4183.83-0ubuntu2.22.04.1).\n",
            "The following additional packages will be installed:\n",
            "  libgdk-pixbuf-xlib-2.0-0 libgdk-pixbuf2.0-bin\n",
            "The following NEW packages will be installed:\n",
            "  libgdk-pixbuf-xlib-2.0-0 libgdk-pixbuf2.0-0 libgdk-pixbuf2.0-bin\n",
            "0 upgraded, 3 newly installed, 0 to remove and 36 not upgraded.\n",
            "Need to get 59.3 kB of archives.\n",
            "After this operation, 214 kB of additional disk space will be used.\n",
            "Get:1 http://archive.ubuntu.com/ubuntu jammy/main amd64 libgdk-pixbuf-xlib-2.0-0 amd64 2.40.2-2build4 [42.6 kB]\n",
            "Get:2 http://archive.ubuntu.com/ubuntu jammy/universe amd64 libgdk-pixbuf2.0-0 amd64 2.40.2-2build4 [2,454 B]\n",
            "Get:3 http://archive.ubuntu.com/ubuntu jammy-updates/main amd64 libgdk-pixbuf2.0-bin amd64 2.42.8+dfsg-1ubuntu0.3 [14.2 kB]\n",
            "Fetched 59.3 kB in 0s (145 kB/s)\n",
            "Selecting previously unselected package libgdk-pixbuf-xlib-2.0-0:amd64.\n",
            "(Reading database ... 126670 files and directories currently installed.)\n",
            "Preparing to unpack .../libgdk-pixbuf-xlib-2.0-0_2.40.2-2build4_amd64.deb ...\n",
            "Unpacking libgdk-pixbuf-xlib-2.0-0:amd64 (2.40.2-2build4) ...\n",
            "Selecting previously unselected package libgdk-pixbuf2.0-0:amd64.\n",
            "Preparing to unpack .../libgdk-pixbuf2.0-0_2.40.2-2build4_amd64.deb ...\n",
            "Unpacking libgdk-pixbuf2.0-0:amd64 (2.40.2-2build4) ...\n",
            "Selecting previously unselected package libgdk-pixbuf2.0-bin.\n",
            "Preparing to unpack .../libgdk-pixbuf2.0-bin_2.42.8+dfsg-1ubuntu0.3_amd64.deb ...\n",
            "Unpacking libgdk-pixbuf2.0-bin (2.42.8+dfsg-1ubuntu0.3) ...\n",
            "Setting up libgdk-pixbuf-xlib-2.0-0:amd64 (2.40.2-2build4) ...\n",
            "Setting up libgdk-pixbuf2.0-0:amd64 (2.40.2-2build4) ...\n",
            "Setting up libgdk-pixbuf2.0-bin (2.42.8+dfsg-1ubuntu0.3) ...\n",
            "Processing triggers for man-db (2.10.2-1) ...\n",
            "Processing triggers for libc-bin (2.35-0ubuntu3.8) ...\n",
            "/sbin/ldconfig.real: /usr/local/lib/libtcm.so.1 is not a symbolic link\n",
            "\n",
            "/sbin/ldconfig.real: /usr/local/lib/libhwloc.so.15 is not a symbolic link\n",
            "\n",
            "/sbin/ldconfig.real: /usr/local/lib/libtbb.so.12 is not a symbolic link\n",
            "\n",
            "/sbin/ldconfig.real: /usr/local/lib/libtbbbind.so.3 is not a symbolic link\n",
            "\n",
            "/sbin/ldconfig.real: /usr/local/lib/libtcm_debug.so.1 is not a symbolic link\n",
            "\n",
            "/sbin/ldconfig.real: /usr/local/lib/libtbbbind_2_0.so.3 is not a symbolic link\n",
            "\n",
            "/sbin/ldconfig.real: /usr/local/lib/libtbbbind_2_5.so.3 is not a symbolic link\n",
            "\n",
            "/sbin/ldconfig.real: /usr/local/lib/libtbbmalloc_proxy.so.2 is not a symbolic link\n",
            "\n",
            "/sbin/ldconfig.real: /usr/local/lib/libtbbmalloc.so.2 is not a symbolic link\n",
            "\n",
            "/sbin/ldconfig.real: /usr/local/lib/libumf.so.0 is not a symbolic link\n",
            "\n",
            "/sbin/ldconfig.real: /usr/local/lib/libur_adapter_level_zero.so.0 is not a symbolic link\n",
            "\n",
            "/sbin/ldconfig.real: /usr/local/lib/libur_adapter_opencl.so.0 is not a symbolic link\n",
            "\n",
            "/sbin/ldconfig.real: /usr/local/lib/libur_loader.so.0 is not a symbolic link\n",
            "\n"
          ]
        }
      ],
      "source": [
        "!apt update\n",
        "!apt install -y chromium-browser chromium-chromedriver libnss3 libgdk-pixbuf2.0-0 libasound2\n"
      ]
    },
    {
      "cell_type": "code",
      "execution_count": null,
      "metadata": {
        "colab": {
          "base_uri": "https://localhost:8080/"
        },
        "id": "0RdBvG5O7Ud4",
        "outputId": "25a2bc1c-b723-4ff4-d2f7-2ccdc45a8305"
      },
      "outputs": [
        {
          "output_type": "stream",
          "name": "stdout",
          "text": [
            "Page title: Example Domain\n",
            "https://www.iana.org/domains/example\n"
          ]
        }
      ],
      "source": [
        "import requests\n",
        "from bs4 import BeautifulSoup\n",
        "\n",
        "# URL you want to scrape\n",
        "url = \"https://www.example.com\"\n",
        "\n",
        "# Send a GET request to the webpage\n",
        "response = requests.get(url)\n",
        "\n",
        "# Check if the request was successful\n",
        "if response.status_code == 200:\n",
        "    # Parse the content of the webpage with BeautifulSoup\n",
        "    soup = BeautifulSoup(response.content, 'html.parser')\n",
        "\n",
        "    # Example: Extract the title of the page\n",
        "    title = soup.title.string\n",
        "    print(f\"Page title: {title}\")\n",
        "\n",
        "\n",
        "    for link in soup.find_all('a', href=True):\n",
        "        print(link['href'])\n",
        "else:\n",
        "    print(f\"Failed to retrieve the webpage. Status code: {response.status_code}\")\n"
      ]
    },
    {
      "cell_type": "code",
      "execution_count": null,
      "metadata": {
        "colab": {
          "base_uri": "https://localhost:8080/"
        },
        "id": "JuEjM53N7yra",
        "outputId": "bfeb4762-2ca3-45df-a566-23960078893a"
      },
      "outputs": [
        {
          "output_type": "stream",
          "name": "stdout",
          "text": [
            "https://www.iana.org/domains/example\n"
          ]
        }
      ],
      "source": [
        "# Find all hyperlinks (a tags) on the page\n",
        "for link in soup.find_all('a', href=True):\n",
        "    print(link['href'])\n"
      ]
    },
    {
      "cell_type": "code",
      "execution_count": null,
      "metadata": {
        "colab": {
          "base_uri": "https://localhost:8080/"
        },
        "id": "m3dNC8v4UecM",
        "outputId": "8ea2e4cd-dd71-4615-f0c3-f25ce158164a"
      },
      "outputs": [
        {
          "output_type": "stream",
          "name": "stdout",
          "text": [
            "Description column is missing!\n",
            "Empty DataFrame\n",
            "Columns: [description]\n",
            "Index: []\n"
          ]
        }
      ],
      "source": [
        "df = pd.DataFrame(data)\n",
        "\n",
        "# Check if columns exist\n",
        "if 'description' not in df.columns:\n",
        "    print(\"Description column is missing!\")\n",
        "\n",
        "    df['description'] = \"\"\n",
        "else:\n",
        "    print(\"Description column found.\")\n",
        "\n",
        "# Print the DataFrame to inspect\n",
        "print(df.head())\n"
      ]
    },
    {
      "cell_type": "code",
      "execution_count": null,
      "metadata": {
        "colab": {
          "base_uri": "https://localhost:8080/"
        },
        "id": "-I9gVPVAUzP7",
        "outputId": "545d5c9d-0ad5-4126-9d0e-4c1d339ff715"
      },
      "outputs": [
        {
          "output_type": "stream",
          "name": "stdout",
          "text": [
            "RangeIndex(start=0, stop=0, step=1)\n",
            "Empty DataFrame\n",
            "Columns: []\n",
            "Index: []\n"
          ]
        }
      ],
      "source": [
        "# Scrape all sections\n",
        "sections = soup.find_all('section')\n",
        "for sec in sections:\n",
        "    heading = sec.find(['h2', 'h3'])\n",
        "    para = sec.find('p')\n",
        "\n",
        "    # Debugging print statements\n",
        "    print(f\"Heading: {heading}\")\n",
        "    print(f\"Paragraph: {para}\")\n",
        "\n",
        "    if heading and para:\n",
        "        title = heading.get_text(strip=True)\n",
        "        description = para.get_text(strip=True)\n",
        "        data.append({\n",
        "            \"title\": title,\n",
        "            \"description\": description\n",
        "        })\n",
        "\n",
        "# Check the DataFrame after extraction\n",
        "df = pd.DataFrame(data)\n",
        "\n",
        "# Print column names and first few rows to verify correct extraction\n",
        "print(df.columns)\n",
        "print(df.head())\n"
      ]
    },
    {
      "cell_type": "code",
      "execution_count": null,
      "metadata": {
        "colab": {
          "base_uri": "https://localhost:8080/"
        },
        "id": "sEO7mXXgU4Xn",
        "outputId": "1a4d7ede-90e7-4be5-9328-1d80f8f55723"
      },
      "outputs": [
        {
          "output_type": "stream",
          "name": "stdout",
          "text": [
            "RangeIndex(start=0, stop=0, step=1)\n",
            "Empty DataFrame\n",
            "Columns: []\n",
            "Index: []\n"
          ]
        }
      ],
      "source": [
        "# Scrape all sections\n",
        "sections = soup.find_all('section')\n",
        "for sec in sections:\n",
        "    heading = sec.find(['h2', 'h3'])\n",
        "    para = sec.find('p')\n",
        "\n",
        "    # Ensure para is defined and handle missing descriptions\n",
        "    description = para.get_text(strip=True) if para else \"No description available\"\n",
        "\n",
        "    # Debugging: Print section data\n",
        "    print(f\"Heading: {heading}\")\n",
        "    print(f\"Description: {description}\")\n",
        "\n",
        "    if heading:  # Ensure heading exists before appending to data\n",
        "        title = heading.get_text(strip=True)\n",
        "        data.append({\n",
        "            \"title\": title,\n",
        "            \"description\": description\n",
        "        })\n",
        "\n",
        "# Check the DataFrame after extraction\n",
        "df = pd.DataFrame(data)\n",
        "\n",
        "# Print column names and first few rows to verify correct extraction\n",
        "print(df.columns)\n",
        "print(df.head())\n"
      ]
    },
    {
      "cell_type": "code",
      "execution_count": null,
      "metadata": {
        "id": "D6Sj6W0uWq9O"
      },
      "outputs": [],
      "source": [
        "# Check the data being collected\n",
        "for entry in data[:5]:  # Display the first 5 entries to verify\n",
        "    print(entry)\n"
      ]
    },
    {
      "cell_type": "code",
      "execution_count": null,
      "metadata": {
        "colab": {
          "base_uri": "https://localhost:8080/"
        },
        "id": "Ln88_xDZdqLf",
        "outputId": "1a590d35-2b58-40c6-d37a-5871d43eeb86"
      },
      "outputs": [
        {
          "output_type": "stream",
          "name": "stdout",
          "text": [
            "RangeIndex(start=0, stop=0, step=1)\n",
            "Empty DataFrame\n",
            "Columns: []\n",
            "Index: []\n"
          ]
        }
      ],
      "source": [
        "df = pd.DataFrame(data)\n",
        "\n",
        "# Check the DataFrame to verify columns\n",
        "print(df.columns)\n",
        "print(df.head())\n"
      ]
    },
    {
      "cell_type": "code",
      "execution_count": null,
      "metadata": {
        "id": "qfO2sNn2duwq"
      },
      "outputs": [],
      "source": [
        "data = []\n",
        "# Scrape all sections\n",
        "sections = soup.find_all('section')\n",
        "for sec in sections:\n",
        "    heading = sec.find(['h2', 'h3'])\n",
        "    para = sec.find('p')\n",
        "    if heading:\n",
        "        title = heading.get_text(strip=True)\n",
        "    else:\n",
        "        title = \"No title available\"\n",
        "\n",
        "    description = para.get_text(strip=True) if para else \"No description available\"\n",
        "\n",
        "    data.append({\n",
        "        \"title\": title,\n",
        "        \"description\": description\n",
        "    })\n"
      ]
    },
    {
      "cell_type": "code",
      "execution_count": null,
      "metadata": {
        "colab": {
          "base_uri": "https://localhost:8080/"
        },
        "id": "JZlhdLh5dycr",
        "outputId": "18b59793-9873-4ad0-b456-3984aadc7183"
      },
      "outputs": [
        {
          "output_type": "stream",
          "name": "stdout",
          "text": [
            "RangeIndex(start=0, stop=0, step=1)\n",
            "Empty DataFrame\n",
            "Columns: []\n",
            "Index: []\n"
          ]
        }
      ],
      "source": [
        "df = pd.DataFrame(data)\n",
        "\n",
        "# Verify column names and some sample data\n",
        "print(df.columns)\n",
        "print(df.head())\n"
      ]
    },
    {
      "cell_type": "code",
      "execution_count": null,
      "metadata": {
        "colab": {
          "base_uri": "https://localhost:8080/"
        },
        "id": "VhsV-SwBeFVj",
        "outputId": "3ee85d8e-a59f-4456-a453-66c4dcb6aaa6"
      },
      "outputs": [
        {
          "output_type": "stream",
          "name": "stdout",
          "text": [
            "[]\n"
          ]
        }
      ],
      "source": [
        "print(df.columns.tolist())\n"
      ]
    },
    {
      "cell_type": "code",
      "execution_count": null,
      "metadata": {
        "colab": {
          "base_uri": "https://localhost:8080/"
        },
        "id": "8WOCiwO4eQX5",
        "outputId": "6bdda2a3-101e-4191-f4ba-3512de280efc"
      },
      "outputs": [
        {
          "output_type": "stream",
          "name": "stdout",
          "text": [
            "<!DOCTYPE html>\n",
            "<html>\n",
            " <head>\n",
            "  <title>\n",
            "   Example Domain\n",
            "  </title>\n",
            "  <meta charset=\"utf-8\"/>\n",
            "  <meta content=\"text/html; charset=utf-8\" http-equiv=\"Content-type\"/>\n",
            "  <meta content=\"width=device-width, initial-scale=1\" name=\"viewport\"/>\n",
            "  <style type=\"text/css\">\n",
            "   body {\n",
            "        background-color: #f0f0f2;\n",
            "        margin: 0;\n",
            "        padding: 0;\n",
            "        font-family: -apple-system, system-ui, BlinkMacSystemFont, \"Segoe UI\", \"Open Sans\", \"Helvetica Neue\", Helvetica, Arial, sans-serif;\n",
            "        \n",
            "    }\n",
            "    div {\n",
            "        width: 600px;\n",
            "        margin: 5em auto;\n",
            "        padding: 2em;\n",
            "        background-color: #fdfdff;\n",
            "        border-radius: 0.5em;\n",
            "        box-shadow: 2px 3px 7px 2px rgba(0,0,0,0.02);\n",
            "    }\n",
            "    a:link, a:visited {\n",
            "        color: #38488f;\n",
            "        text-decoration: none;\n",
            "    }\n",
            "    @media (max-width: 700px) {\n",
            "        div {\n",
            "            margin: 0 auto;\n",
            "            width: auto;\n",
            "        }\n",
            "    }\n",
            "  </style>\n",
            " </head>\n",
            " <body>\n",
            "  <div>\n",
            "   <h1>\n",
            "    Example Domain\n",
            "   </h1>\n",
            "   <p>\n",
            "    This dom\n"
          ]
        }
      ],
      "source": [
        "print(soup.prettify()[:1000])  # print the first 1000 chars\n"
      ]
    },
    {
      "cell_type": "code",
      "execution_count": null,
      "metadata": {
        "id": "Cz1vh-svelUf"
      },
      "outputs": [],
      "source": [
        "from selenium import webdriver\n",
        "from selenium.webdriver.chrome.options import Options\n",
        "from bs4 import BeautifulSoup\n",
        "\n",
        "options = Options()\n",
        "options.add_argument(\"--headless\")\n",
        "options.add_argument(\"--disable-dev-shm-usage\")\n",
        "options.add_argument(\"--no-sandbox\")\n",
        "\n",
        "driver = webdriver.Chrome(options=options)\n",
        "driver.get(\"https://www.shl.com/en/assessments/\")\n",
        "\n",
        "html = driver.page_source\n",
        "soup = BeautifulSoup(html, \"html.parser\")\n"
      ]
    },
    {
      "cell_type": "code",
      "execution_count": null,
      "metadata": {
        "colab": {
          "base_uri": "https://localhost:8080/"
        },
        "id": "xsb1kOITesG4",
        "outputId": "d477d84f-1e7c-4238-ed01-55d4e7697627"
      },
      "outputs": [
        {
          "output_type": "stream",
          "name": "stdout",
          "text": [
            "Index(['title', 'description'], dtype='object')\n",
            "                        title  \\\n",
            "0   Outdated browser detected   \n",
            "1  Make Wise Talent Decisions   \n",
            "2     Drive Hiring Efficiency   \n",
            "3     Delight Your Candidates   \n",
            "4                               \n",
            "\n",
            "                                         description  \n",
            "0        We recommend upgrading to a modern browser.  \n",
            "1  Evaluate job-related behaviors, skills, and co...  \n",
            "2  Our assessments provide actionable, timely ins...  \n",
            "3  SHL prioritizes candidate experiences to ensur...  \n",
            "4                           No description available  \n"
          ]
        }
      ],
      "source": [
        "data = []\n",
        "\n",
        "headings = soup.find_all(['h2', 'h3'])\n",
        "for heading in headings:\n",
        "    para = heading.find_next_sibling('p')\n",
        "    title = heading.get_text(strip=True)\n",
        "    description = para.get_text(strip=True) if para else \"No description available\"\n",
        "    data.append({\"title\": title, \"description\": description})\n",
        "\n",
        "import pandas as pd\n",
        "df = pd.DataFrame(data)\n",
        "\n",
        "print(df.columns)\n",
        "print(df.head())\n"
      ]
    },
    {
      "cell_type": "code",
      "execution_count": null,
      "metadata": {
        "colab": {
          "base_uri": "https://localhost:8080/"
        },
        "id": "jpuWwJ2vfBQC",
        "outputId": "76177e14-50f9-442d-8968-b4e7bcacd086"
      },
      "outputs": [
        {
          "output_type": "stream",
          "name": "stdout",
          "text": [
            "TF-IDF matrix shape: (22, 54)\n"
          ]
        }
      ],
      "source": [
        "from sklearn.feature_extraction.text import TfidfVectorizer\n",
        "\n",
        "# Create TF-IDF vectorizer and fit on the descriptions\n",
        "vectorizer = TfidfVectorizer(stop_words='english')\n",
        "X = vectorizer.fit_transform(df['description'])\n",
        "\n",
        "print(\"TF-IDF matrix shape:\", X.shape)\n"
      ]
    },
    {
      "cell_type": "code",
      "execution_count": null,
      "metadata": {
        "id": "jyuUT5JAfFT6"
      },
      "outputs": [],
      "source": [
        "from sklearn.metrics.pairwise import cosine_similarity\n",
        "\n",
        "def recommend_assessments(query, top_n=10):\n",
        "    # Vectorize the input query\n",
        "    query_vec = vectorizer.transform([query])\n",
        "\n",
        "    # Calculate cosine similarity\n",
        "    similarity = cosine_similarity(query_vec, X).flatten()\n",
        "\n",
        "    # Get indices of top N similar items\n",
        "    indices = similarity.argsort()[::-1][:top_n]\n",
        "\n",
        "    # Return the top assessments\n",
        "    return df.iloc[indices][['title', 'description']]\n"
      ]
    },
    {
      "cell_type": "code",
      "execution_count": null,
      "metadata": {
        "colab": {
          "base_uri": "https://localhost:8080/"
        },
        "id": "j1reMO4mfJv3",
        "outputId": "7622ef36-c304-4216-c6da-71327492c1a5"
      },
      "outputs": [
        {
          "output_type": "stream",
          "name": "stdout",
          "text": [
            "                                                title  \\\n",
            "1                          Make Wise Talent Decisions   \n",
            "21              Explore SHL’s Wide Range of Solutions   \n",
            "19                         Are SHL assessments valid?   \n",
            "18  Is it better to use psychometric assessments o...   \n",
            "17  Can psychometric assessments be tailored for a...   \n",
            "20                          Are SHL assessments fair?   \n",
            "16         Why should I use psychometric assessments?   \n",
            "15                 What are psychometric assessments?   \n",
            "13                               What is the SHL OPQ?   \n",
            "14                      Are SHL assessments reliable?   \n",
            "\n",
            "                                          description  \n",
            "1   Evaluate job-related behaviors, skills, and co...  \n",
            "21  With our platform of pre-configured talent acq...  \n",
            "19                           No description available  \n",
            "18                           No description available  \n",
            "17                           No description available  \n",
            "20                           No description available  \n",
            "16                           No description available  \n",
            "15                           No description available  \n",
            "13                           No description available  \n",
            "14                           No description available  \n"
          ]
        }
      ],
      "source": [
        "# Example test\n",
        "query = \"I want to assess leadership and cognitive skills\"\n",
        "recommendations = recommend_assessments(query)\n",
        "print(recommendations)\n"
      ]
    },
    {
      "cell_type": "code",
      "execution_count": null,
      "metadata": {
        "id": "FRH-zV2TfTWY"
      },
      "outputs": [],
      "source": [
        "for heading in soup.find_all(['h2', 'h3']):\n",
        "    paras = []\n",
        "    next_el = heading.find_next_sibling()\n",
        "    while next_el and next_el.name == 'p':\n",
        "        paras.append(next_el.get_text(strip=True))\n",
        "        next_el = next_el.find_next_sibling()\n",
        "    description = \" \".join(paras) if paras else \"No description available\"\n",
        "    data.append({\n",
        "        \"title\": heading.get_text(strip=True),\n",
        "        \"description\": description\n",
        "    })\n"
      ]
    },
    {
      "cell_type": "code",
      "execution_count": null,
      "metadata": {
        "id": "00hAIu2efWzW"
      },
      "outputs": [],
      "source": [
        "df = df[df['description'] != \"No description available\"]\n"
      ]
    },
    {
      "cell_type": "code",
      "execution_count": null,
      "metadata": {
        "colab": {
          "base_uri": "https://localhost:8080/",
          "height": 293
        },
        "id": "jnkTDWTIgIA4",
        "outputId": "97a02528-e6eb-4337-97ed-45eb7cdf6ca9"
      },
      "outputs": [
        {
          "output_type": "execute_result",
          "data": {
            "text/plain": [
              "                                    title  \\\n",
              "0               Outdated browser detected   \n",
              "1              Make Wise Talent Decisions   \n",
              "2                 Drive Hiring Efficiency   \n",
              "3                 Delight Your Candidates   \n",
              "21  Explore SHL’s Wide Range of Solutions   \n",
              "\n",
              "                                          description  \\\n",
              "0         We recommend upgrading to a modern browser.   \n",
              "1   Evaluate job-related behaviors, skills, and co...   \n",
              "2   Our assessments provide actionable, timely ins...   \n",
              "3   SHL prioritizes candidate experiences to ensur...   \n",
              "21  With our platform of pre-configured talent acq...   \n",
              "\n",
              "                                                  url remote_testing_support  \\\n",
              "0   https://www.shl.com/solutions/products/product...                    Yes   \n",
              "1   https://www.shl.com/solutions/products/product...                    Yes   \n",
              "2   https://www.shl.com/solutions/products/product...                    Yes   \n",
              "3   https://www.shl.com/solutions/products/product...                     No   \n",
              "21  https://www.shl.com/solutions/products/product...                     No   \n",
              "\n",
              "   adaptive_irt_support  duration_minutes    test_type  \n",
              "0                    No                30   Behavioral  \n",
              "1                    No                30  Personality  \n",
              "2                    No                20    Cognitive  \n",
              "3                   Yes                40    Cognitive  \n",
              "21                  Yes                30   Behavioral  "
            ],
            "text/html": [
              "\n",
              "  <div id=\"df-ca695c3f-6f24-43a2-a33e-6e818d405c25\" class=\"colab-df-container\">\n",
              "    <div>\n",
              "<style scoped>\n",
              "    .dataframe tbody tr th:only-of-type {\n",
              "        vertical-align: middle;\n",
              "    }\n",
              "\n",
              "    .dataframe tbody tr th {\n",
              "        vertical-align: top;\n",
              "    }\n",
              "\n",
              "    .dataframe thead th {\n",
              "        text-align: right;\n",
              "    }\n",
              "</style>\n",
              "<table border=\"1\" class=\"dataframe\">\n",
              "  <thead>\n",
              "    <tr style=\"text-align: right;\">\n",
              "      <th></th>\n",
              "      <th>title</th>\n",
              "      <th>description</th>\n",
              "      <th>url</th>\n",
              "      <th>remote_testing_support</th>\n",
              "      <th>adaptive_irt_support</th>\n",
              "      <th>duration_minutes</th>\n",
              "      <th>test_type</th>\n",
              "    </tr>\n",
              "  </thead>\n",
              "  <tbody>\n",
              "    <tr>\n",
              "      <th>0</th>\n",
              "      <td>Outdated browser detected</td>\n",
              "      <td>We recommend upgrading to a modern browser.</td>\n",
              "      <td>https://www.shl.com/solutions/products/product...</td>\n",
              "      <td>Yes</td>\n",
              "      <td>No</td>\n",
              "      <td>30</td>\n",
              "      <td>Behavioral</td>\n",
              "    </tr>\n",
              "    <tr>\n",
              "      <th>1</th>\n",
              "      <td>Make Wise Talent Decisions</td>\n",
              "      <td>Evaluate job-related behaviors, skills, and co...</td>\n",
              "      <td>https://www.shl.com/solutions/products/product...</td>\n",
              "      <td>Yes</td>\n",
              "      <td>No</td>\n",
              "      <td>30</td>\n",
              "      <td>Personality</td>\n",
              "    </tr>\n",
              "    <tr>\n",
              "      <th>2</th>\n",
              "      <td>Drive Hiring Efficiency</td>\n",
              "      <td>Our assessments provide actionable, timely ins...</td>\n",
              "      <td>https://www.shl.com/solutions/products/product...</td>\n",
              "      <td>Yes</td>\n",
              "      <td>No</td>\n",
              "      <td>20</td>\n",
              "      <td>Cognitive</td>\n",
              "    </tr>\n",
              "    <tr>\n",
              "      <th>3</th>\n",
              "      <td>Delight Your Candidates</td>\n",
              "      <td>SHL prioritizes candidate experiences to ensur...</td>\n",
              "      <td>https://www.shl.com/solutions/products/product...</td>\n",
              "      <td>No</td>\n",
              "      <td>Yes</td>\n",
              "      <td>40</td>\n",
              "      <td>Cognitive</td>\n",
              "    </tr>\n",
              "    <tr>\n",
              "      <th>21</th>\n",
              "      <td>Explore SHL’s Wide Range of Solutions</td>\n",
              "      <td>With our platform of pre-configured talent acq...</td>\n",
              "      <td>https://www.shl.com/solutions/products/product...</td>\n",
              "      <td>No</td>\n",
              "      <td>Yes</td>\n",
              "      <td>30</td>\n",
              "      <td>Behavioral</td>\n",
              "    </tr>\n",
              "  </tbody>\n",
              "</table>\n",
              "</div>\n",
              "    <div class=\"colab-df-buttons\">\n",
              "\n",
              "  <div class=\"colab-df-container\">\n",
              "    <button class=\"colab-df-convert\" onclick=\"convertToInteractive('df-ca695c3f-6f24-43a2-a33e-6e818d405c25')\"\n",
              "            title=\"Convert this dataframe to an interactive table.\"\n",
              "            style=\"display:none;\">\n",
              "\n",
              "  <svg xmlns=\"http://www.w3.org/2000/svg\" height=\"24px\" viewBox=\"0 -960 960 960\">\n",
              "    <path d=\"M120-120v-720h720v720H120Zm60-500h600v-160H180v160Zm220 220h160v-160H400v160Zm0 220h160v-160H400v160ZM180-400h160v-160H180v160Zm440 0h160v-160H620v160ZM180-180h160v-160H180v160Zm440 0h160v-160H620v160Z\"/>\n",
              "  </svg>\n",
              "    </button>\n",
              "\n",
              "  <style>\n",
              "    .colab-df-container {\n",
              "      display:flex;\n",
              "      gap: 12px;\n",
              "    }\n",
              "\n",
              "    .colab-df-convert {\n",
              "      background-color: #E8F0FE;\n",
              "      border: none;\n",
              "      border-radius: 50%;\n",
              "      cursor: pointer;\n",
              "      display: none;\n",
              "      fill: #1967D2;\n",
              "      height: 32px;\n",
              "      padding: 0 0 0 0;\n",
              "      width: 32px;\n",
              "    }\n",
              "\n",
              "    .colab-df-convert:hover {\n",
              "      background-color: #E2EBFA;\n",
              "      box-shadow: 0px 1px 2px rgba(60, 64, 67, 0.3), 0px 1px 3px 1px rgba(60, 64, 67, 0.15);\n",
              "      fill: #174EA6;\n",
              "    }\n",
              "\n",
              "    .colab-df-buttons div {\n",
              "      margin-bottom: 4px;\n",
              "    }\n",
              "\n",
              "    [theme=dark] .colab-df-convert {\n",
              "      background-color: #3B4455;\n",
              "      fill: #D2E3FC;\n",
              "    }\n",
              "\n",
              "    [theme=dark] .colab-df-convert:hover {\n",
              "      background-color: #434B5C;\n",
              "      box-shadow: 0px 1px 3px 1px rgba(0, 0, 0, 0.15);\n",
              "      filter: drop-shadow(0px 1px 2px rgba(0, 0, 0, 0.3));\n",
              "      fill: #FFFFFF;\n",
              "    }\n",
              "  </style>\n",
              "\n",
              "    <script>\n",
              "      const buttonEl =\n",
              "        document.querySelector('#df-ca695c3f-6f24-43a2-a33e-6e818d405c25 button.colab-df-convert');\n",
              "      buttonEl.style.display =\n",
              "        google.colab.kernel.accessAllowed ? 'block' : 'none';\n",
              "\n",
              "      async function convertToInteractive(key) {\n",
              "        const element = document.querySelector('#df-ca695c3f-6f24-43a2-a33e-6e818d405c25');\n",
              "        const dataTable =\n",
              "          await google.colab.kernel.invokeFunction('convertToInteractive',\n",
              "                                                    [key], {});\n",
              "        if (!dataTable) return;\n",
              "\n",
              "        const docLinkHtml = 'Like what you see? Visit the ' +\n",
              "          '<a target=\"_blank\" href=https://colab.research.google.com/notebooks/data_table.ipynb>data table notebook</a>'\n",
              "          + ' to learn more about interactive tables.';\n",
              "        element.innerHTML = '';\n",
              "        dataTable['output_type'] = 'display_data';\n",
              "        await google.colab.output.renderOutput(dataTable, element);\n",
              "        const docLink = document.createElement('div');\n",
              "        docLink.innerHTML = docLinkHtml;\n",
              "        element.appendChild(docLink);\n",
              "      }\n",
              "    </script>\n",
              "  </div>\n",
              "\n",
              "\n",
              "<div id=\"df-aa80f520-ae8f-45e3-95c3-8d5336e04091\">\n",
              "  <button class=\"colab-df-quickchart\" onclick=\"quickchart('df-aa80f520-ae8f-45e3-95c3-8d5336e04091')\"\n",
              "            title=\"Suggest charts\"\n",
              "            style=\"display:none;\">\n",
              "\n",
              "<svg xmlns=\"http://www.w3.org/2000/svg\" height=\"24px\"viewBox=\"0 0 24 24\"\n",
              "     width=\"24px\">\n",
              "    <g>\n",
              "        <path d=\"M19 3H5c-1.1 0-2 .9-2 2v14c0 1.1.9 2 2 2h14c1.1 0 2-.9 2-2V5c0-1.1-.9-2-2-2zM9 17H7v-7h2v7zm4 0h-2V7h2v10zm4 0h-2v-4h2v4z\"/>\n",
              "    </g>\n",
              "</svg>\n",
              "  </button>\n",
              "\n",
              "<style>\n",
              "  .colab-df-quickchart {\n",
              "      --bg-color: #E8F0FE;\n",
              "      --fill-color: #1967D2;\n",
              "      --hover-bg-color: #E2EBFA;\n",
              "      --hover-fill-color: #174EA6;\n",
              "      --disabled-fill-color: #AAA;\n",
              "      --disabled-bg-color: #DDD;\n",
              "  }\n",
              "\n",
              "  [theme=dark] .colab-df-quickchart {\n",
              "      --bg-color: #3B4455;\n",
              "      --fill-color: #D2E3FC;\n",
              "      --hover-bg-color: #434B5C;\n",
              "      --hover-fill-color: #FFFFFF;\n",
              "      --disabled-bg-color: #3B4455;\n",
              "      --disabled-fill-color: #666;\n",
              "  }\n",
              "\n",
              "  .colab-df-quickchart {\n",
              "    background-color: var(--bg-color);\n",
              "    border: none;\n",
              "    border-radius: 50%;\n",
              "    cursor: pointer;\n",
              "    display: none;\n",
              "    fill: var(--fill-color);\n",
              "    height: 32px;\n",
              "    padding: 0;\n",
              "    width: 32px;\n",
              "  }\n",
              "\n",
              "  .colab-df-quickchart:hover {\n",
              "    background-color: var(--hover-bg-color);\n",
              "    box-shadow: 0 1px 2px rgba(60, 64, 67, 0.3), 0 1px 3px 1px rgba(60, 64, 67, 0.15);\n",
              "    fill: var(--button-hover-fill-color);\n",
              "  }\n",
              "\n",
              "  .colab-df-quickchart-complete:disabled,\n",
              "  .colab-df-quickchart-complete:disabled:hover {\n",
              "    background-color: var(--disabled-bg-color);\n",
              "    fill: var(--disabled-fill-color);\n",
              "    box-shadow: none;\n",
              "  }\n",
              "\n",
              "  .colab-df-spinner {\n",
              "    border: 2px solid var(--fill-color);\n",
              "    border-color: transparent;\n",
              "    border-bottom-color: var(--fill-color);\n",
              "    animation:\n",
              "      spin 1s steps(1) infinite;\n",
              "  }\n",
              "\n",
              "  @keyframes spin {\n",
              "    0% {\n",
              "      border-color: transparent;\n",
              "      border-bottom-color: var(--fill-color);\n",
              "      border-left-color: var(--fill-color);\n",
              "    }\n",
              "    20% {\n",
              "      border-color: transparent;\n",
              "      border-left-color: var(--fill-color);\n",
              "      border-top-color: var(--fill-color);\n",
              "    }\n",
              "    30% {\n",
              "      border-color: transparent;\n",
              "      border-left-color: var(--fill-color);\n",
              "      border-top-color: var(--fill-color);\n",
              "      border-right-color: var(--fill-color);\n",
              "    }\n",
              "    40% {\n",
              "      border-color: transparent;\n",
              "      border-right-color: var(--fill-color);\n",
              "      border-top-color: var(--fill-color);\n",
              "    }\n",
              "    60% {\n",
              "      border-color: transparent;\n",
              "      border-right-color: var(--fill-color);\n",
              "    }\n",
              "    80% {\n",
              "      border-color: transparent;\n",
              "      border-right-color: var(--fill-color);\n",
              "      border-bottom-color: var(--fill-color);\n",
              "    }\n",
              "    90% {\n",
              "      border-color: transparent;\n",
              "      border-bottom-color: var(--fill-color);\n",
              "    }\n",
              "  }\n",
              "</style>\n",
              "\n",
              "  <script>\n",
              "    async function quickchart(key) {\n",
              "      const quickchartButtonEl =\n",
              "        document.querySelector('#' + key + ' button');\n",
              "      quickchartButtonEl.disabled = true;  // To prevent multiple clicks.\n",
              "      quickchartButtonEl.classList.add('colab-df-spinner');\n",
              "      try {\n",
              "        const charts = await google.colab.kernel.invokeFunction(\n",
              "            'suggestCharts', [key], {});\n",
              "      } catch (error) {\n",
              "        console.error('Error during call to suggestCharts:', error);\n",
              "      }\n",
              "      quickchartButtonEl.classList.remove('colab-df-spinner');\n",
              "      quickchartButtonEl.classList.add('colab-df-quickchart-complete');\n",
              "    }\n",
              "    (() => {\n",
              "      let quickchartButtonEl =\n",
              "        document.querySelector('#df-aa80f520-ae8f-45e3-95c3-8d5336e04091 button');\n",
              "      quickchartButtonEl.style.display =\n",
              "        google.colab.kernel.accessAllowed ? 'block' : 'none';\n",
              "    })();\n",
              "  </script>\n",
              "</div>\n",
              "\n",
              "    </div>\n",
              "  </div>\n"
            ],
            "application/vnd.google.colaboratory.intrinsic+json": {
              "type": "dataframe",
              "variable_name": "df",
              "summary": "{\n  \"name\": \"df\",\n  \"rows\": 5,\n  \"fields\": [\n    {\n      \"column\": \"title\",\n      \"properties\": {\n        \"dtype\": \"string\",\n        \"num_unique_values\": 5,\n        \"samples\": [\n          \"Make Wise Talent Decisions\",\n          \"Explore SHL\\u2019s Wide Range of Solutions\",\n          \"Drive Hiring Efficiency\"\n        ],\n        \"semantic_type\": \"\",\n        \"description\": \"\"\n      }\n    },\n    {\n      \"column\": \"description\",\n      \"properties\": {\n        \"dtype\": \"string\",\n        \"num_unique_values\": 5,\n        \"samples\": [\n          \"Evaluate job-related behaviors, skills, and competencies with patented assessments developed by our 300+ people scientists to hire high-quality talent.\",\n          \"With our platform of pre-configured talent acquisition and talent management solutions, maximize the potential of your company\\u2019s greatest asset\\u2014your people.\",\n          \"Our assessments provide actionable, timely insights to accelerate hiring while driving objectivity and fairness in your people decisions.\"\n        ],\n        \"semantic_type\": \"\",\n        \"description\": \"\"\n      }\n    },\n    {\n      \"column\": \"url\",\n      \"properties\": {\n        \"dtype\": \"category\",\n        \"num_unique_values\": 1,\n        \"samples\": [\n          \"https://www.shl.com/solutions/products/product-catalog/\"\n        ],\n        \"semantic_type\": \"\",\n        \"description\": \"\"\n      }\n    },\n    {\n      \"column\": \"remote_testing_support\",\n      \"properties\": {\n        \"dtype\": \"category\",\n        \"num_unique_values\": 2,\n        \"samples\": [\n          \"No\"\n        ],\n        \"semantic_type\": \"\",\n        \"description\": \"\"\n      }\n    },\n    {\n      \"column\": \"adaptive_irt_support\",\n      \"properties\": {\n        \"dtype\": \"category\",\n        \"num_unique_values\": 2,\n        \"samples\": [\n          \"Yes\"\n        ],\n        \"semantic_type\": \"\",\n        \"description\": \"\"\n      }\n    },\n    {\n      \"column\": \"duration_minutes\",\n      \"properties\": {\n        \"dtype\": \"number\",\n        \"std\": 7,\n        \"min\": 20,\n        \"max\": 40,\n        \"num_unique_values\": 3,\n        \"samples\": [\n          30\n        ],\n        \"semantic_type\": \"\",\n        \"description\": \"\"\n      }\n    },\n    {\n      \"column\": \"test_type\",\n      \"properties\": {\n        \"dtype\": \"string\",\n        \"num_unique_values\": 3,\n        \"samples\": [\n          \"Behavioral\"\n        ],\n        \"semantic_type\": \"\",\n        \"description\": \"\"\n      }\n    }\n  ]\n}"
            }
          },
          "metadata": {},
          "execution_count": 32
        }
      ],
      "source": [
        "import random\n",
        "\n",
        "# Add dummy metadata to each row\n",
        "df['url'] = \"https://www.shl.com/solutions/products/product-catalog/\"  # You can update later with actual links\n",
        "\n",
        "df['remote_testing_support'] = [random.choice(['Yes', 'No']) for _ in range(len(df))]\n",
        "df['adaptive_irt_support'] = [random.choice(['Yes', 'No']) for _ in range(len(df))]\n",
        "df['duration_minutes'] = [random.choice([20, 30, 40, 45, 60]) for _ in range(len(df))]\n",
        "df['test_type'] = [random.choice(['Cognitive', 'Technical', 'Personality', 'Behavioral']) for _ in range(len(df))]\n",
        "\n",
        "# Preview\n",
        "df.head()\n"
      ]
    },
    {
      "cell_type": "code",
      "execution_count": null,
      "metadata": {
        "id": "wTBq-jUcgT1I"
      },
      "outputs": [],
      "source": [
        "def recommend_assessments(query, top_n=10):\n",
        "    query_vec = vectorizer.transform([query])\n",
        "    similarity_scores = cosine_similarity(query_vec, X).flatten()\n",
        "\n",
        "    # Fix: Restrict top_n to number of rows in TF-IDF matrix\n",
        "    top_n = min(top_n, X.shape[0])\n",
        "\n",
        "    # Get top indices sorted by similarity\n",
        "    top_indices = similarity_scores.argsort()[-top_n:][::-1]\n",
        "\n",
        "    # Ensure indices are within df's range\n",
        "    valid_indices = [i for i in top_indices if i < len(df)]\n",
        "\n",
        "    recommendations = df.iloc[valid_indices].copy()\n",
        "    recommendations['similarity_score'] = similarity_scores[valid_indices]\n",
        "\n",
        "    return recommendations[['title', 'description', 'url', 'remote_testing_support',\n",
        "                            'adaptive_irt_support', 'duration_minutes', 'test_type', 'similarity_score']]\n"
      ]
    },
    {
      "cell_type": "code",
      "execution_count": null,
      "metadata": {
        "colab": {
          "base_uri": "https://localhost:8080/",
          "height": 98
        },
        "id": "nH3dBoshgWmq",
        "outputId": "6ca1fac8-752d-4420-cfd9-908876f7a1a5"
      },
      "outputs": [
        {
          "output_type": "execute_result",
          "data": {
            "text/plain": [
              "                        title  \\\n",
              "1  Make Wise Talent Decisions   \n",
              "\n",
              "                                         description  \\\n",
              "1  Evaluate job-related behaviors, skills, and co...   \n",
              "\n",
              "                                                 url remote_testing_support  \\\n",
              "1  https://www.shl.com/solutions/products/product...                    Yes   \n",
              "\n",
              "  adaptive_irt_support  duration_minutes    test_type  similarity_score  \n",
              "1                   No                30  Personality          0.367207  "
            ],
            "text/html": [
              "\n",
              "  <div id=\"df-c0ecfddd-1958-485b-8a5e-84fa58feb34f\" class=\"colab-df-container\">\n",
              "    <div>\n",
              "<style scoped>\n",
              "    .dataframe tbody tr th:only-of-type {\n",
              "        vertical-align: middle;\n",
              "    }\n",
              "\n",
              "    .dataframe tbody tr th {\n",
              "        vertical-align: top;\n",
              "    }\n",
              "\n",
              "    .dataframe thead th {\n",
              "        text-align: right;\n",
              "    }\n",
              "</style>\n",
              "<table border=\"1\" class=\"dataframe\">\n",
              "  <thead>\n",
              "    <tr style=\"text-align: right;\">\n",
              "      <th></th>\n",
              "      <th>title</th>\n",
              "      <th>description</th>\n",
              "      <th>url</th>\n",
              "      <th>remote_testing_support</th>\n",
              "      <th>adaptive_irt_support</th>\n",
              "      <th>duration_minutes</th>\n",
              "      <th>test_type</th>\n",
              "      <th>similarity_score</th>\n",
              "    </tr>\n",
              "  </thead>\n",
              "  <tbody>\n",
              "    <tr>\n",
              "      <th>1</th>\n",
              "      <td>Make Wise Talent Decisions</td>\n",
              "      <td>Evaluate job-related behaviors, skills, and co...</td>\n",
              "      <td>https://www.shl.com/solutions/products/product...</td>\n",
              "      <td>Yes</td>\n",
              "      <td>No</td>\n",
              "      <td>30</td>\n",
              "      <td>Personality</td>\n",
              "      <td>0.367207</td>\n",
              "    </tr>\n",
              "  </tbody>\n",
              "</table>\n",
              "</div>\n",
              "    <div class=\"colab-df-buttons\">\n",
              "\n",
              "  <div class=\"colab-df-container\">\n",
              "    <button class=\"colab-df-convert\" onclick=\"convertToInteractive('df-c0ecfddd-1958-485b-8a5e-84fa58feb34f')\"\n",
              "            title=\"Convert this dataframe to an interactive table.\"\n",
              "            style=\"display:none;\">\n",
              "\n",
              "  <svg xmlns=\"http://www.w3.org/2000/svg\" height=\"24px\" viewBox=\"0 -960 960 960\">\n",
              "    <path d=\"M120-120v-720h720v720H120Zm60-500h600v-160H180v160Zm220 220h160v-160H400v160Zm0 220h160v-160H400v160ZM180-400h160v-160H180v160Zm440 0h160v-160H620v160ZM180-180h160v-160H180v160Zm440 0h160v-160H620v160Z\"/>\n",
              "  </svg>\n",
              "    </button>\n",
              "\n",
              "  <style>\n",
              "    .colab-df-container {\n",
              "      display:flex;\n",
              "      gap: 12px;\n",
              "    }\n",
              "\n",
              "    .colab-df-convert {\n",
              "      background-color: #E8F0FE;\n",
              "      border: none;\n",
              "      border-radius: 50%;\n",
              "      cursor: pointer;\n",
              "      display: none;\n",
              "      fill: #1967D2;\n",
              "      height: 32px;\n",
              "      padding: 0 0 0 0;\n",
              "      width: 32px;\n",
              "    }\n",
              "\n",
              "    .colab-df-convert:hover {\n",
              "      background-color: #E2EBFA;\n",
              "      box-shadow: 0px 1px 2px rgba(60, 64, 67, 0.3), 0px 1px 3px 1px rgba(60, 64, 67, 0.15);\n",
              "      fill: #174EA6;\n",
              "    }\n",
              "\n",
              "    .colab-df-buttons div {\n",
              "      margin-bottom: 4px;\n",
              "    }\n",
              "\n",
              "    [theme=dark] .colab-df-convert {\n",
              "      background-color: #3B4455;\n",
              "      fill: #D2E3FC;\n",
              "    }\n",
              "\n",
              "    [theme=dark] .colab-df-convert:hover {\n",
              "      background-color: #434B5C;\n",
              "      box-shadow: 0px 1px 3px 1px rgba(0, 0, 0, 0.15);\n",
              "      filter: drop-shadow(0px 1px 2px rgba(0, 0, 0, 0.3));\n",
              "      fill: #FFFFFF;\n",
              "    }\n",
              "  </style>\n",
              "\n",
              "    <script>\n",
              "      const buttonEl =\n",
              "        document.querySelector('#df-c0ecfddd-1958-485b-8a5e-84fa58feb34f button.colab-df-convert');\n",
              "      buttonEl.style.display =\n",
              "        google.colab.kernel.accessAllowed ? 'block' : 'none';\n",
              "\n",
              "      async function convertToInteractive(key) {\n",
              "        const element = document.querySelector('#df-c0ecfddd-1958-485b-8a5e-84fa58feb34f');\n",
              "        const dataTable =\n",
              "          await google.colab.kernel.invokeFunction('convertToInteractive',\n",
              "                                                    [key], {});\n",
              "        if (!dataTable) return;\n",
              "\n",
              "        const docLinkHtml = 'Like what you see? Visit the ' +\n",
              "          '<a target=\"_blank\" href=https://colab.research.google.com/notebooks/data_table.ipynb>data table notebook</a>'\n",
              "          + ' to learn more about interactive tables.';\n",
              "        element.innerHTML = '';\n",
              "        dataTable['output_type'] = 'display_data';\n",
              "        await google.colab.output.renderOutput(dataTable, element);\n",
              "        const docLink = document.createElement('div');\n",
              "        docLink.innerHTML = docLinkHtml;\n",
              "        element.appendChild(docLink);\n",
              "      }\n",
              "    </script>\n",
              "  </div>\n",
              "\n",
              "\n",
              "    </div>\n",
              "  </div>\n"
            ],
            "application/vnd.google.colaboratory.intrinsic+json": {
              "type": "dataframe",
              "summary": "{\n  \"name\": \"recommend_assessments(query)\",\n  \"rows\": 1,\n  \"fields\": [\n    {\n      \"column\": \"title\",\n      \"properties\": {\n        \"dtype\": \"string\",\n        \"num_unique_values\": 1,\n        \"samples\": [\n          \"Make Wise Talent Decisions\"\n        ],\n        \"semantic_type\": \"\",\n        \"description\": \"\"\n      }\n    },\n    {\n      \"column\": \"description\",\n      \"properties\": {\n        \"dtype\": \"string\",\n        \"num_unique_values\": 1,\n        \"samples\": [\n          \"Evaluate job-related behaviors, skills, and competencies with patented assessments developed by our 300+ people scientists to hire high-quality talent.\"\n        ],\n        \"semantic_type\": \"\",\n        \"description\": \"\"\n      }\n    },\n    {\n      \"column\": \"url\",\n      \"properties\": {\n        \"dtype\": \"string\",\n        \"num_unique_values\": 1,\n        \"samples\": [\n          \"https://www.shl.com/solutions/products/product-catalog/\"\n        ],\n        \"semantic_type\": \"\",\n        \"description\": \"\"\n      }\n    },\n    {\n      \"column\": \"remote_testing_support\",\n      \"properties\": {\n        \"dtype\": \"string\",\n        \"num_unique_values\": 1,\n        \"samples\": [\n          \"Yes\"\n        ],\n        \"semantic_type\": \"\",\n        \"description\": \"\"\n      }\n    },\n    {\n      \"column\": \"adaptive_irt_support\",\n      \"properties\": {\n        \"dtype\": \"string\",\n        \"num_unique_values\": 1,\n        \"samples\": [\n          \"No\"\n        ],\n        \"semantic_type\": \"\",\n        \"description\": \"\"\n      }\n    },\n    {\n      \"column\": \"duration_minutes\",\n      \"properties\": {\n        \"dtype\": \"number\",\n        \"std\": null,\n        \"min\": 30,\n        \"max\": 30,\n        \"num_unique_values\": 1,\n        \"samples\": [\n          30\n        ],\n        \"semantic_type\": \"\",\n        \"description\": \"\"\n      }\n    },\n    {\n      \"column\": \"test_type\",\n      \"properties\": {\n        \"dtype\": \"string\",\n        \"num_unique_values\": 1,\n        \"samples\": [\n          \"Personality\"\n        ],\n        \"semantic_type\": \"\",\n        \"description\": \"\"\n      }\n    },\n    {\n      \"column\": \"similarity_score\",\n      \"properties\": {\n        \"dtype\": \"number\",\n        \"std\": null,\n        \"min\": 0.367207404419925,\n        \"max\": 0.367207404419925,\n        \"num_unique_values\": 1,\n        \"samples\": [\n          0.367207404419925\n        ],\n        \"semantic_type\": \"\",\n        \"description\": \"\"\n      }\n    }\n  ]\n}"
            }
          },
          "metadata": {},
          "execution_count": 34
        }
      ],
      "source": [
        "query = \"Looking to hire Python developers with good communication and cognitive skills\"\n",
        "recommend_assessments(query)\n"
      ]
    },
    {
      "cell_type": "code",
      "execution_count": null,
      "metadata": {
        "colab": {
          "base_uri": "https://localhost:8080/"
        },
        "id": "mSAnQ-y2hAhx",
        "outputId": "63ed5815-dedc-4c0f-c1b9-7327b5b99f96"
      },
      "outputs": [
        {
          "output_type": "stream",
          "name": "stdout",
          "text": [
            "Collecting streamlit\n",
            "  Downloading streamlit-1.44.1-py3-none-any.whl.metadata (8.9 kB)\n",
            "Requirement already satisfied: altair<6,>=4.0 in /usr/local/lib/python3.11/dist-packages (from streamlit) (5.5.0)\n",
            "Requirement already satisfied: blinker<2,>=1.0.0 in /usr/local/lib/python3.11/dist-packages (from streamlit) (1.9.0)\n",
            "Requirement already satisfied: cachetools<6,>=4.0 in /usr/local/lib/python3.11/dist-packages (from streamlit) (5.5.2)\n",
            "Requirement already satisfied: click<9,>=7.0 in /usr/local/lib/python3.11/dist-packages (from streamlit) (8.1.8)\n",
            "Requirement already satisfied: numpy<3,>=1.23 in /usr/local/lib/python3.11/dist-packages (from streamlit) (2.0.2)\n",
            "Requirement already satisfied: packaging<25,>=20 in /usr/local/lib/python3.11/dist-packages (from streamlit) (24.2)\n",
            "Requirement already satisfied: pandas<3,>=1.4.0 in /usr/local/lib/python3.11/dist-packages (from streamlit) (2.2.2)\n",
            "Requirement already satisfied: pillow<12,>=7.1.0 in /usr/local/lib/python3.11/dist-packages (from streamlit) (11.1.0)\n",
            "Requirement already satisfied: protobuf<6,>=3.20 in /usr/local/lib/python3.11/dist-packages (from streamlit) (5.29.4)\n",
            "Requirement already satisfied: pyarrow>=7.0 in /usr/local/lib/python3.11/dist-packages (from streamlit) (18.1.0)\n",
            "Requirement already satisfied: requests<3,>=2.27 in /usr/local/lib/python3.11/dist-packages (from streamlit) (2.32.3)\n",
            "Requirement already satisfied: tenacity<10,>=8.1.0 in /usr/local/lib/python3.11/dist-packages (from streamlit) (9.1.2)\n",
            "Requirement already satisfied: toml<2,>=0.10.1 in /usr/local/lib/python3.11/dist-packages (from streamlit) (0.10.2)\n",
            "Requirement already satisfied: typing-extensions<5,>=4.4.0 in /usr/local/lib/python3.11/dist-packages (from streamlit) (4.13.0)\n",
            "Collecting watchdog<7,>=2.1.5 (from streamlit)\n",
            "  Downloading watchdog-6.0.0-py3-none-manylinux2014_x86_64.whl.metadata (44 kB)\n",
            "\u001b[2K     \u001b[90m━━━━━━━━━━━━━━━━━━━━━━━━━━━━━━━━━━━━━━━━\u001b[0m \u001b[32m44.3/44.3 kB\u001b[0m \u001b[31m1.9 MB/s\u001b[0m eta \u001b[36m0:00:00\u001b[0m\n",
            "\u001b[?25hRequirement already satisfied: gitpython!=3.1.19,<4,>=3.0.7 in /usr/local/lib/python3.11/dist-packages (from streamlit) (3.1.44)\n",
            "Collecting pydeck<1,>=0.8.0b4 (from streamlit)\n",
            "  Downloading pydeck-0.9.1-py2.py3-none-any.whl.metadata (4.1 kB)\n",
            "Requirement already satisfied: tornado<7,>=6.0.3 in /usr/local/lib/python3.11/dist-packages (from streamlit) (6.4.2)\n",
            "Requirement already satisfied: jinja2 in /usr/local/lib/python3.11/dist-packages (from altair<6,>=4.0->streamlit) (3.1.6)\n",
            "Requirement already satisfied: jsonschema>=3.0 in /usr/local/lib/python3.11/dist-packages (from altair<6,>=4.0->streamlit) (4.23.0)\n",
            "Requirement already satisfied: narwhals>=1.14.2 in /usr/local/lib/python3.11/dist-packages (from altair<6,>=4.0->streamlit) (1.33.0)\n",
            "Requirement already satisfied: gitdb<5,>=4.0.1 in /usr/local/lib/python3.11/dist-packages (from gitpython!=3.1.19,<4,>=3.0.7->streamlit) (4.0.12)\n",
            "Requirement already satisfied: python-dateutil>=2.8.2 in /usr/local/lib/python3.11/dist-packages (from pandas<3,>=1.4.0->streamlit) (2.8.2)\n",
            "Requirement already satisfied: pytz>=2020.1 in /usr/local/lib/python3.11/dist-packages (from pandas<3,>=1.4.0->streamlit) (2025.2)\n",
            "Requirement already satisfied: tzdata>=2022.7 in /usr/local/lib/python3.11/dist-packages (from pandas<3,>=1.4.0->streamlit) (2025.2)\n",
            "Requirement already satisfied: charset-normalizer<4,>=2 in /usr/local/lib/python3.11/dist-packages (from requests<3,>=2.27->streamlit) (3.4.1)\n",
            "Requirement already satisfied: idna<4,>=2.5 in /usr/local/lib/python3.11/dist-packages (from requests<3,>=2.27->streamlit) (3.10)\n",
            "Requirement already satisfied: urllib3<3,>=1.21.1 in /usr/local/lib/python3.11/dist-packages (from requests<3,>=2.27->streamlit) (2.3.0)\n",
            "Requirement already satisfied: certifi>=2017.4.17 in /usr/local/lib/python3.11/dist-packages (from requests<3,>=2.27->streamlit) (2025.1.31)\n",
            "Requirement already satisfied: smmap<6,>=3.0.1 in /usr/local/lib/python3.11/dist-packages (from gitdb<5,>=4.0.1->gitpython!=3.1.19,<4,>=3.0.7->streamlit) (5.0.2)\n",
            "Requirement already satisfied: MarkupSafe>=2.0 in /usr/local/lib/python3.11/dist-packages (from jinja2->altair<6,>=4.0->streamlit) (3.0.2)\n",
            "Requirement already satisfied: attrs>=22.2.0 in /usr/local/lib/python3.11/dist-packages (from jsonschema>=3.0->altair<6,>=4.0->streamlit) (25.3.0)\n",
            "Requirement already satisfied: jsonschema-specifications>=2023.03.6 in /usr/local/lib/python3.11/dist-packages (from jsonschema>=3.0->altair<6,>=4.0->streamlit) (2024.10.1)\n",
            "Requirement already satisfied: referencing>=0.28.4 in /usr/local/lib/python3.11/dist-packages (from jsonschema>=3.0->altair<6,>=4.0->streamlit) (0.36.2)\n",
            "Requirement already satisfied: rpds-py>=0.7.1 in /usr/local/lib/python3.11/dist-packages (from jsonschema>=3.0->altair<6,>=4.0->streamlit) (0.24.0)\n",
            "Requirement already satisfied: six>=1.5 in /usr/local/lib/python3.11/dist-packages (from python-dateutil>=2.8.2->pandas<3,>=1.4.0->streamlit) (1.17.0)\n",
            "Downloading streamlit-1.44.1-py3-none-any.whl (9.8 MB)\n",
            "\u001b[2K   \u001b[90m━━━━━━━━━━━━━━━━━━━━━━━━━━━━━━━━━━━━━━━━\u001b[0m \u001b[32m9.8/9.8 MB\u001b[0m \u001b[31m43.7 MB/s\u001b[0m eta \u001b[36m0:00:00\u001b[0m\n",
            "\u001b[?25hDownloading pydeck-0.9.1-py2.py3-none-any.whl (6.9 MB)\n",
            "\u001b[2K   \u001b[90m━━━━━━━━━━━━━━━━━━━━━━━━━━━━━━━━━━━━━━━━\u001b[0m \u001b[32m6.9/6.9 MB\u001b[0m \u001b[31m62.0 MB/s\u001b[0m eta \u001b[36m0:00:00\u001b[0m\n",
            "\u001b[?25hDownloading watchdog-6.0.0-py3-none-manylinux2014_x86_64.whl (79 kB)\n",
            "\u001b[2K   \u001b[90m━━━━━━━━━━━━━━━━━━━━━━━━━━━━━━━━━━━━━━━━\u001b[0m \u001b[32m79.1/79.1 kB\u001b[0m \u001b[31m6.8 MB/s\u001b[0m eta \u001b[36m0:00:00\u001b[0m\n",
            "\u001b[?25hInstalling collected packages: watchdog, pydeck, streamlit\n",
            "Successfully installed pydeck-0.9.1 streamlit-1.44.1 watchdog-6.0.0\n"
          ]
        }
      ],
      "source": [
        "pip install streamlit\n"
      ]
    },
    {
      "cell_type": "code",
      "execution_count": null,
      "metadata": {
        "id": "Qh6c86f1hHqN"
      },
      "outputs": [],
      "source": [
        "import pickle\n",
        "\n",
        "# Save the cleaned and updated dataframe with metadata\n",
        "pickle.dump(df, open(\"df.pkl\", \"wb\"))\n",
        "\n",
        "# Save the TF-IDF matrix\n",
        "pickle.dump(X, open(\"X.pkl\", \"wb\"))\n",
        "\n",
        "# Save the vectorizer\n",
        "pickle.dump(vectorizer, open(\"vectorizer.pkl\", \"wb\"))\n"
      ]
    },
    {
      "cell_type": "code",
      "execution_count": null,
      "metadata": {
        "id": "cNZrERnjhnAT"
      },
      "outputs": [],
      "source": [
        "import pickle\n",
        "\n",
        "# Check and save each variable one by one\n",
        "if 'df' in locals():\n",
        "    with open(\"df.pkl\", \"wb\") as f:\n",
        "        pickle.dump(df, f)\n",
        "else:\n",
        "    print(\"❌ 'df' not found!\")\n",
        "\n",
        "if 'X' in locals():\n",
        "    with open(\"X.pkl\", \"wb\") as f:\n",
        "        pickle.dump(X, f)\n",
        "else:\n",
        "    print(\"❌ 'X' not found!\")\n",
        "\n",
        "if 'vectorizer' in locals():\n",
        "    with open(\"vectorizer.pkl\", \"wb\") as f:\n",
        "        pickle.dump(vectorizer, f)\n",
        "else:\n",
        "    print(\"❌ 'vectorizer' not found!\")\n"
      ]
    },
    {
      "cell_type": "code",
      "execution_count": null,
      "metadata": {
        "colab": {
          "base_uri": "https://localhost:8080/",
          "height": 17
        },
        "id": "P2WJO7x8hqks",
        "outputId": "29a4ad91-c872-49f6-9f02-25cdf2a9b3ef"
      },
      "outputs": [
        {
          "output_type": "display_data",
          "data": {
            "text/plain": [
              "<IPython.core.display.Javascript object>"
            ],
            "application/javascript": [
              "\n",
              "    async function download(id, filename, size) {\n",
              "      if (!google.colab.kernel.accessAllowed) {\n",
              "        return;\n",
              "      }\n",
              "      const div = document.createElement('div');\n",
              "      const label = document.createElement('label');\n",
              "      label.textContent = `Downloading \"${filename}\": `;\n",
              "      div.appendChild(label);\n",
              "      const progress = document.createElement('progress');\n",
              "      progress.max = size;\n",
              "      div.appendChild(progress);\n",
              "      document.body.appendChild(div);\n",
              "\n",
              "      const buffers = [];\n",
              "      let downloaded = 0;\n",
              "\n",
              "      const channel = await google.colab.kernel.comms.open(id);\n",
              "      // Send a message to notify the kernel that we're ready.\n",
              "      channel.send({})\n",
              "\n",
              "      for await (const message of channel.messages) {\n",
              "        // Send a message to notify the kernel that we're ready.\n",
              "        channel.send({})\n",
              "        if (message.buffers) {\n",
              "          for (const buffer of message.buffers) {\n",
              "            buffers.push(buffer);\n",
              "            downloaded += buffer.byteLength;\n",
              "            progress.value = downloaded;\n",
              "          }\n",
              "        }\n",
              "      }\n",
              "      const blob = new Blob(buffers, {type: 'application/binary'});\n",
              "      const a = document.createElement('a');\n",
              "      a.href = window.URL.createObjectURL(blob);\n",
              "      a.download = filename;\n",
              "      div.appendChild(a);\n",
              "      a.click();\n",
              "      div.remove();\n",
              "    }\n",
              "  "
            ]
          },
          "metadata": {}
        },
        {
          "output_type": "display_data",
          "data": {
            "text/plain": [
              "<IPython.core.display.Javascript object>"
            ],
            "application/javascript": [
              "download(\"download_8edb87c2-20b4-4926-99dd-520e3a2db59b\", \"df.pkl\", 2001)"
            ]
          },
          "metadata": {}
        },
        {
          "output_type": "display_data",
          "data": {
            "text/plain": [
              "<IPython.core.display.Javascript object>"
            ],
            "application/javascript": [
              "\n",
              "    async function download(id, filename, size) {\n",
              "      if (!google.colab.kernel.accessAllowed) {\n",
              "        return;\n",
              "      }\n",
              "      const div = document.createElement('div');\n",
              "      const label = document.createElement('label');\n",
              "      label.textContent = `Downloading \"${filename}\": `;\n",
              "      div.appendChild(label);\n",
              "      const progress = document.createElement('progress');\n",
              "      progress.max = size;\n",
              "      div.appendChild(progress);\n",
              "      document.body.appendChild(div);\n",
              "\n",
              "      const buffers = [];\n",
              "      let downloaded = 0;\n",
              "\n",
              "      const channel = await google.colab.kernel.comms.open(id);\n",
              "      // Send a message to notify the kernel that we're ready.\n",
              "      channel.send({})\n",
              "\n",
              "      for await (const message of channel.messages) {\n",
              "        // Send a message to notify the kernel that we're ready.\n",
              "        channel.send({})\n",
              "        if (message.buffers) {\n",
              "          for (const buffer of message.buffers) {\n",
              "            buffers.push(buffer);\n",
              "            downloaded += buffer.byteLength;\n",
              "            progress.value = downloaded;\n",
              "          }\n",
              "        }\n",
              "      }\n",
              "      const blob = new Blob(buffers, {type: 'application/binary'});\n",
              "      const a = document.createElement('a');\n",
              "      a.href = window.URL.createObjectURL(blob);\n",
              "      a.download = filename;\n",
              "      div.appendChild(a);\n",
              "      a.click();\n",
              "      div.remove();\n",
              "    }\n",
              "  "
            ]
          },
          "metadata": {}
        },
        {
          "output_type": "display_data",
          "data": {
            "text/plain": [
              "<IPython.core.display.Javascript object>"
            ],
            "application/javascript": [
              "download(\"download_b130fe43-c927-4eec-8a16-36d12e2f1b67\", \"X.pkl\", 1541)"
            ]
          },
          "metadata": {}
        },
        {
          "output_type": "display_data",
          "data": {
            "text/plain": [
              "<IPython.core.display.Javascript object>"
            ],
            "application/javascript": [
              "\n",
              "    async function download(id, filename, size) {\n",
              "      if (!google.colab.kernel.accessAllowed) {\n",
              "        return;\n",
              "      }\n",
              "      const div = document.createElement('div');\n",
              "      const label = document.createElement('label');\n",
              "      label.textContent = `Downloading \"${filename}\": `;\n",
              "      div.appendChild(label);\n",
              "      const progress = document.createElement('progress');\n",
              "      progress.max = size;\n",
              "      div.appendChild(progress);\n",
              "      document.body.appendChild(div);\n",
              "\n",
              "      const buffers = [];\n",
              "      let downloaded = 0;\n",
              "\n",
              "      const channel = await google.colab.kernel.comms.open(id);\n",
              "      // Send a message to notify the kernel that we're ready.\n",
              "      channel.send({})\n",
              "\n",
              "      for await (const message of channel.messages) {\n",
              "        // Send a message to notify the kernel that we're ready.\n",
              "        channel.send({})\n",
              "        if (message.buffers) {\n",
              "          for (const buffer of message.buffers) {\n",
              "            buffers.push(buffer);\n",
              "            downloaded += buffer.byteLength;\n",
              "            progress.value = downloaded;\n",
              "          }\n",
              "        }\n",
              "      }\n",
              "      const blob = new Blob(buffers, {type: 'application/binary'});\n",
              "      const a = document.createElement('a');\n",
              "      a.href = window.URL.createObjectURL(blob);\n",
              "      a.download = filename;\n",
              "      div.appendChild(a);\n",
              "      a.click();\n",
              "      div.remove();\n",
              "    }\n",
              "  "
            ]
          },
          "metadata": {}
        },
        {
          "output_type": "display_data",
          "data": {
            "text/plain": [
              "<IPython.core.display.Javascript object>"
            ],
            "application/javascript": [
              "download(\"download_681acf91-8de0-4c97-955d-b19ca7cb2960\", \"vectorizer.pkl\", 1873)"
            ]
          },
          "metadata": {}
        }
      ],
      "source": [
        "from google.colab import files\n",
        "\n",
        "files.download(\"df.pkl\")\n",
        "files.download(\"X.pkl\")\n",
        "files.download(\"vectorizer.pkl\")\n"
      ]
    },
    {
      "cell_type": "code",
      "execution_count": null,
      "metadata": {
        "colab": {
          "base_uri": "https://localhost:8080/"
        },
        "id": "1sHUehkpl7AA",
        "outputId": "b9d1e289-2e5f-4f4a-85c8-2dbc7b24c0b5"
      },
      "outputs": [
        {
          "output_type": "stream",
          "name": "stdout",
          "text": [
            "Writing app.py\n"
          ]
        }
      ],
      "source": [
        "%%writefile app.py\n",
        "import streamlit as st\n",
        "import pickle\n",
        "import pandas as pd\n",
        "from sklearn.metrics.pairwise import cosine_similarity\n",
        "\n",
        "# Load pre-trained files\n",
        "df = pickle.load(open(\"df.pkl\", \"rb\"))\n",
        "X = pickle.load(open(\"X.pkl\", \"rb\"))\n",
        "vectorizer = pickle.load(open(\"vectorizer.pkl\", \"rb\"))\n",
        "\n",
        "# Streamlit App\n",
        "st.set_page_config(page_title=\"SHL Assessment Recommender\", layout=\"wide\")\n",
        "\n",
        "st.title(\"🔍 SHL Assessment Recommendation System\")\n",
        "st.markdown(\"Enter a job description or hiring need, and get the most relevant SHL assessments.\")\n",
        "\n",
        "# Input text box\n",
        "query = st.text_area(\"📝 Enter Job Description / Hiring Requirement:\")\n",
        "\n",
        "if st.button(\"🔎 Recommend Assessments\"):\n",
        "    if query.strip() == \"\":\n",
        "        st.warning(\"Please enter a valid job description.\")\n",
        "    else:\n",
        "        # Vectorize the input query\n",
        "        query_vec = vectorizer.transform([query])\n",
        "\n",
        "        # Compute cosine similarity\n",
        "        similarity_scores = cosine_similarity(query_vec, X).flatten()\n",
        "        top_indices = similarity_scores.argsort()[-10:][::-1]  # Top 10\n",
        "\n",
        "        # Prepare results\n",
        "        recommendations = df.iloc[top_indices].copy()\n",
        "        recommendations[\"Similarity Score\"] = similarity_scores[top_indices]\n",
        "\n",
        "        st.subheader(\"🎯 Top Recommended Assessments\")\n",
        "        for idx, row in recommendations.iterrows():\n",
        "            st.markdown(f\"### [{row['Assessment Name']}]({row['URL']})\")\n",
        "            st.write(f\"**Test Type:** {row.get('Test Type', 'N/A')}\")\n",
        "            st.write(f\"**Duration:** {row.get('Duration', 'N/A')}\")\n",
        "            st.write(f\"**Supports Remote Testing:** {row.get('Supports Remote Testing', 'N/A')}\")\n",
        "            st.write(f\"**Adaptive/IRT:** {row.get('Adaptive/IRT', 'N/A')}\")\n",
        "            st.progress(min(row['Similarity Score'], 1.0))\n",
        "            st.markdown(\"---\")\n"
      ]
    },
    {
      "cell_type": "code",
      "execution_count": null,
      "metadata": {
        "id": "K_6ywW96myOT"
      },
      "outputs": [],
      "source": [
        "with open(\"requirements.txt\", \"w\") as f:\n",
        "    f.write(\"streamlit\\npandas\\nscikit-learn\\nnumpy\")\n"
      ]
    },
    {
      "cell_type": "code",
      "execution_count": null,
      "metadata": {
        "colab": {
          "base_uri": "https://localhost:8080/"
        },
        "id": "Hlv_svqDfocG",
        "outputId": "5adb9f2b-03b3-4c62-cf8f-85ba880dff0e"
      },
      "outputs": [
        {
          "output_type": "stream",
          "name": "stdout",
          "text": [
            "✅ CSV file saved successfully!\n"
          ]
        }
      ],
      "source": [
        "import requests\n",
        "from bs4 import BeautifulSoup\n",
        "import pandas as pd\n",
        "\n",
        "# URL of the SHL Product Catalog\n",
        "url = \"https://www.shl.com/en/assessments/products/\"\n",
        "\n",
        "# Send a GET request to the webpage\n",
        "response = requests.get(url)\n",
        "soup = BeautifulSoup(response.text, \"html.parser\")\n",
        "\n",
        "# Extract assessment blocks\n",
        "assessment_blocks = soup.find_all(\"a\", class_=\"product-list-item\")\n",
        "\n",
        "# Lists to hold data\n",
        "titles, descriptions, urls = [], [], []\n",
        "\n",
        "# Loop over blocks to extract data\n",
        "for block in assessment_blocks:\n",
        "    title = block.find(\"div\", class_=\"product-title\")\n",
        "    description = block.find(\"div\", class_=\"product-description\")\n",
        "    href = block[\"href\"]\n",
        "\n",
        "    titles.append(title.text.strip() if title else \"Unnamed Assessment\")\n",
        "    descriptions.append(description.text.strip() if description else \"\")\n",
        "    urls.append(\"https://www.shl.com\" + href)\n",
        "\n",
        "# Create DataFrame\n",
        "df = pd.DataFrame({\n",
        "    \"title\": titles,\n",
        "    \"description\": descriptions,\n",
        "    \"url\": urls,\n",
        "    \"remote_testing_support\": [\"N/A\"] * len(titles),  # Placeholder\n",
        "    \"adaptive_irt_support\": [\"N/A\"] * len(titles),     # Placeholder\n",
        "    \"duration_minutes\": [\"N/A\"] * len(titles),         # Placeholder\n",
        "    \"test_type\": [\"N/A\"] * len(titles)                 # Placeholder\n",
        "})\n",
        "\n",
        "# Save to CSV\n",
        "df.to_csv(\"shl_assessments.csv\", index=False)\n",
        "print(\"✅ CSV file saved successfully!\")\n"
      ]
    },
    {
      "cell_type": "code",
      "execution_count": null,
      "metadata": {
        "colab": {
          "base_uri": "https://localhost:8080/",
          "height": 17
        },
        "id": "l5DklgBfg4HJ",
        "outputId": "3bfee363-9c31-40fc-87b0-7a02a034d7b9"
      },
      "outputs": [
        {
          "output_type": "display_data",
          "data": {
            "text/plain": [
              "<IPython.core.display.Javascript object>"
            ],
            "application/javascript": [
              "\n",
              "    async function download(id, filename, size) {\n",
              "      if (!google.colab.kernel.accessAllowed) {\n",
              "        return;\n",
              "      }\n",
              "      const div = document.createElement('div');\n",
              "      const label = document.createElement('label');\n",
              "      label.textContent = `Downloading \"${filename}\": `;\n",
              "      div.appendChild(label);\n",
              "      const progress = document.createElement('progress');\n",
              "      progress.max = size;\n",
              "      div.appendChild(progress);\n",
              "      document.body.appendChild(div);\n",
              "\n",
              "      const buffers = [];\n",
              "      let downloaded = 0;\n",
              "\n",
              "      const channel = await google.colab.kernel.comms.open(id);\n",
              "      // Send a message to notify the kernel that we're ready.\n",
              "      channel.send({})\n",
              "\n",
              "      for await (const message of channel.messages) {\n",
              "        // Send a message to notify the kernel that we're ready.\n",
              "        channel.send({})\n",
              "        if (message.buffers) {\n",
              "          for (const buffer of message.buffers) {\n",
              "            buffers.push(buffer);\n",
              "            downloaded += buffer.byteLength;\n",
              "            progress.value = downloaded;\n",
              "          }\n",
              "        }\n",
              "      }\n",
              "      const blob = new Blob(buffers, {type: 'application/binary'});\n",
              "      const a = document.createElement('a');\n",
              "      a.href = window.URL.createObjectURL(blob);\n",
              "      a.download = filename;\n",
              "      div.appendChild(a);\n",
              "      a.click();\n",
              "      div.remove();\n",
              "    }\n",
              "  "
            ]
          },
          "metadata": {}
        },
        {
          "output_type": "display_data",
          "data": {
            "text/plain": [
              "<IPython.core.display.Javascript object>"
            ],
            "application/javascript": [
              "download(\"download_f3f0731e-ac57-48d0-befa-9f3e3b08ab14\", \"shl_assessments.csv\", 93)"
            ]
          },
          "metadata": {}
        }
      ],
      "source": [
        "from google.colab import files\n",
        "files.download(\"shl_assessments.csv\")\n"
      ]
    },
    {
      "cell_type": "code",
      "execution_count": null,
      "metadata": {
        "colab": {
          "base_uri": "https://localhost:8080/"
        },
        "id": "RVtv9s_XmB4y",
        "outputId": "9eba58bf-5e1d-4f90-a5cc-a1ca14bbf226"
      },
      "outputs": [
        {
          "output_type": "stream",
          "name": "stdout",
          "text": [
            "Requirement already satisfied: selenium in /usr/local/lib/python3.11/dist-packages (4.31.0)\n",
            "Requirement already satisfied: urllib3<3,>=1.26 in /usr/local/lib/python3.11/dist-packages (from urllib3[socks]<3,>=1.26->selenium) (2.3.0)\n",
            "Requirement already satisfied: trio~=0.17 in /usr/local/lib/python3.11/dist-packages (from selenium) (0.29.0)\n",
            "Requirement already satisfied: trio-websocket~=0.9 in /usr/local/lib/python3.11/dist-packages (from selenium) (0.12.2)\n",
            "Requirement already satisfied: certifi>=2021.10.8 in /usr/local/lib/python3.11/dist-packages (from selenium) (2025.1.31)\n",
            "Requirement already satisfied: typing_extensions~=4.9 in /usr/local/lib/python3.11/dist-packages (from selenium) (4.13.0)\n",
            "Requirement already satisfied: websocket-client~=1.8 in /usr/local/lib/python3.11/dist-packages (from selenium) (1.8.0)\n",
            "Requirement already satisfied: attrs>=23.2.0 in /usr/local/lib/python3.11/dist-packages (from trio~=0.17->selenium) (25.3.0)\n",
            "Requirement already satisfied: sortedcontainers in /usr/local/lib/python3.11/dist-packages (from trio~=0.17->selenium) (2.4.0)\n",
            "Requirement already satisfied: idna in /usr/local/lib/python3.11/dist-packages (from trio~=0.17->selenium) (3.10)\n",
            "Requirement already satisfied: outcome in /usr/local/lib/python3.11/dist-packages (from trio~=0.17->selenium) (1.3.0.post0)\n",
            "Requirement already satisfied: sniffio>=1.3.0 in /usr/local/lib/python3.11/dist-packages (from trio~=0.17->selenium) (1.3.1)\n",
            "Requirement already satisfied: wsproto>=0.14 in /usr/local/lib/python3.11/dist-packages (from trio-websocket~=0.9->selenium) (1.2.0)\n",
            "Requirement already satisfied: pysocks!=1.5.7,<2.0,>=1.5.6 in /usr/local/lib/python3.11/dist-packages (from urllib3[socks]<3,>=1.26->selenium) (1.7.1)\n",
            "Requirement already satisfied: h11<1,>=0.9.0 in /usr/local/lib/python3.11/dist-packages (from wsproto>=0.14->trio-websocket~=0.9->selenium) (0.14.0)\n",
            "Hit:1 https://cloud.r-project.org/bin/linux/ubuntu jammy-cran40/ InRelease\n",
            "Hit:2 https://developer.download.nvidia.com/compute/cuda/repos/ubuntu2204/x86_64  InRelease\n",
            "Hit:3 http://security.ubuntu.com/ubuntu jammy-security InRelease\n",
            "Hit:4 http://archive.ubuntu.com/ubuntu jammy InRelease\n",
            "Hit:5 http://archive.ubuntu.com/ubuntu jammy-updates InRelease\n",
            "Hit:6 http://archive.ubuntu.com/ubuntu jammy-backports InRelease\n",
            "Hit:7 https://r2u.stat.illinois.edu/ubuntu jammy InRelease\n",
            "Hit:8 https://ppa.launchpadcontent.net/deadsnakes/ppa/ubuntu jammy InRelease\n",
            "Hit:9 https://ppa.launchpadcontent.net/graphics-drivers/ppa/ubuntu jammy InRelease\n",
            "Hit:10 https://ppa.launchpadcontent.net/ubuntugis/ppa/ubuntu jammy InRelease\n",
            "Reading package lists... Done\n",
            "W: Skipping acquire of configured file 'main/source/Sources' as repository 'https://r2u.stat.illinois.edu/ubuntu jammy InRelease' does not seem to provide it (sources.list entry misspelt?)\n",
            "Reading package lists... Done\n",
            "Building dependency tree... Done\n",
            "Reading state information... Done\n",
            "chromium-chromedriver is already the newest version (1:85.0.4183.83-0ubuntu2.22.04.1).\n",
            "0 upgraded, 0 newly installed, 0 to remove and 44 not upgraded.\n",
            "cp: '/usr/lib/chromium-browser/chromedriver' and '/usr/bin/chromedriver' are the same file\n"
          ]
        }
      ],
      "source": [
        "!pip install selenium\n",
        "!apt-get update\n",
        "!apt install chromium-chromedriver\n",
        "!cp /usr/lib/chromium-browser/chromedriver /usr/bin\n"
      ]
    },
    {
      "cell_type": "code",
      "execution_count": null,
      "metadata": {
        "id": "mvRBkGd3yMl0"
      },
      "outputs": [],
      "source": [
        "import requests\n",
        "from bs4 import BeautifulSoup\n",
        "\n",
        "url = \"https://www.shl.com/en/assessments/product-catalog/\"\n",
        "headers = {\n",
        "    \"User-Agent\": \"Mozilla/5.0\"\n",
        "}\n",
        "\n",
        "# Fetch the HTML content\n",
        "response = requests.get(url, headers=headers)\n",
        "soup = BeautifulSoup(response.content, \"html.parser\")\n",
        "\n",
        "# Find all assessment cards\n",
        "cards = soup.find_all(\"a\", class_=\"assessment-card\")\n",
        "\n",
        "# Extract key details\n",
        "assessments = []\n",
        "for card in cards:\n",
        "    name = card.find(\"h3\").text.strip()\n",
        "    link = \"https://www.shl.com\" + card[\"href\"]\n",
        "    detail_div = card.find(\"div\", class_=\"assessment-card__summary\")\n",
        "\n",
        "    # Some metadata (like duration, type, etc.) is here\n",
        "    metadata = [x.text.strip() for x in detail_div.find_all(\"li\")] if detail_div else []\n",
        "\n",
        "    assessments.append({\n",
        "        \"name\": name,\n",
        "        \"url\": link,\n",
        "        \"metadata\": metadata\n",
        "    })\n",
        "\n",
        "# Show some results\n",
        "for a in assessments[:5]:\n",
        "    print(\"Name:\", a[\"name\"])\n",
        "    print(\"URL:\", a[\"url\"])\n",
        "    print(\"Metadata:\", a[\"metadata\"])\n",
        "    print(\"------\")\n"
      ]
    },
    {
      "cell_type": "code",
      "execution_count": null,
      "metadata": {
        "colab": {
          "base_uri": "https://localhost:8080/"
        },
        "id": "W59J0hRS2vL3",
        "outputId": "f17ebeba-53e7-4e37-e2ab-9b486c86bba1"
      },
      "outputs": [
        {
          "output_type": "stream",
          "name": "stdout",
          "text": [
            "Archive:  chromedriver-linux64.zip\n",
            "  inflating: chromedriver-linux64/LICENSE.chromedriver  \n",
            "  inflating: chromedriver-linux64/THIRD_PARTY_NOTICES.chromedriver  \n",
            "  inflating: chromedriver-linux64/chromedriver  \n"
          ]
        }
      ],
      "source": [
        "!wget -q https://storage.googleapis.com/chrome-for-testing-public/135.0.7049.52/linux64/chromedriver-linux64.zip\n",
        "!unzip -o chromedriver-linux64.zip\n",
        "!mv chromedriver-linux64/chromedriver /usr/bin/chromedriver\n",
        "!chmod +x /usr/bin/chromedriver\n"
      ]
    },
    {
      "cell_type": "code",
      "execution_count": null,
      "metadata": {
        "colab": {
          "base_uri": "https://localhost:8080/"
        },
        "id": "efaTcHQZx0kD",
        "outputId": "1720ab04-b44d-45f7-c49e-d97077a9581c"
      },
      "outputs": [
        {
          "output_type": "stream",
          "name": "stdout",
          "text": [
            "Reading package lists... Done\n",
            "Building dependency tree... Done\n",
            "Reading state information... Done\n",
            "E: Unable to locate package google-chrome-stable\n"
          ]
        }
      ],
      "source": [
        "!sudo apt-get remove -y google-chrome-stable\n",
        "!sudo rm -f /usr/bin/chromedriver\n"
      ]
    },
    {
      "cell_type": "code",
      "execution_count": null,
      "metadata": {
        "colab": {
          "base_uri": "https://localhost:8080/"
        },
        "id": "nQOGdAw9ygF1",
        "outputId": "926c4e53-9b87-4cc4-af2e-a087d0437ea1"
      },
      "outputs": [
        {
          "output_type": "stream",
          "name": "stdout",
          "text": [
            "\u001b[33m\r0% [Working]\u001b[0m\r            \rHit:1 https://cloud.r-project.org/bin/linux/ubuntu jammy-cran40/ InRelease\n",
            "\u001b[33m\r0% [Connecting to archive.ubuntu.com (91.189.91.82)] [Connecting to security.ubuntu.com (91.189.91.8\u001b[0m\r                                                                                                    \rHit:2 https://developer.download.nvidia.com/compute/cuda/repos/ubuntu2204/x86_64  InRelease\n",
            "\u001b[33m\r0% [Waiting for headers] [Waiting for headers] [Connected to r2u.stat.illinois.edu (192.17.190.167)]\u001b[0m\r                                                                                                    \rHit:3 http://security.ubuntu.com/ubuntu jammy-security InRelease\n",
            "Hit:4 http://archive.ubuntu.com/ubuntu jammy InRelease\n",
            "Hit:5 http://archive.ubuntu.com/ubuntu jammy-updates InRelease\n",
            "Hit:6 http://archive.ubuntu.com/ubuntu jammy-backports InRelease\n",
            "Hit:7 https://r2u.stat.illinois.edu/ubuntu jammy InRelease\n",
            "Hit:8 https://ppa.launchpadcontent.net/deadsnakes/ppa/ubuntu jammy InRelease\n",
            "Hit:9 https://ppa.launchpadcontent.net/graphics-drivers/ppa/ubuntu jammy InRelease\n",
            "Hit:10 https://ppa.launchpadcontent.net/ubuntugis/ppa/ubuntu jammy InRelease\n",
            "Reading package lists... Done\n",
            "Building dependency tree... Done\n",
            "Reading state information... Done\n",
            "44 packages can be upgraded. Run 'apt list --upgradable' to see them.\n",
            "\u001b[1;33mW: \u001b[0mSkipping acquire of configured file 'main/source/Sources' as repository 'https://r2u.stat.illinois.edu/ubuntu jammy InRelease' does not seem to provide it (sources.list entry misspelt?)\u001b[0m\n",
            "Reading package lists... Done\n",
            "Building dependency tree... Done\n",
            "Reading state information... Done\n",
            "chromium-chromedriver is already the newest version (1:85.0.4183.83-0ubuntu2.22.04.1).\n",
            "0 upgraded, 0 newly installed, 0 to remove and 44 not upgraded.\n",
            "cp: cannot stat '/usr/lib/chromium-browser/chromedriver': No such file or directory\n"
          ]
        }
      ],
      "source": [
        "!apt update\n",
        "!apt install -y chromium-chromedriver\n",
        "!cp /usr/lib/chromium-browser/chromedriver /usr/bin\n"
      ]
    },
    {
      "cell_type": "code",
      "execution_count": null,
      "metadata": {
        "colab": {
          "base_uri": "https://localhost:8080/"
        },
        "id": "v9skQyT-y6_D",
        "outputId": "138b3866-2801-4dcf-b79e-862449394e0d"
      },
      "outputs": [
        {
          "output_type": "stream",
          "name": "stdout",
          "text": [
            "/usr/lib/chromium-browser/chromedriver\n"
          ]
        }
      ],
      "source": [
        "!find /usr -name chromedriver\n"
      ]
    },
    {
      "cell_type": "code",
      "execution_count": null,
      "metadata": {
        "colab": {
          "base_uri": "https://localhost:8080/"
        },
        "id": "yFpNo8-mzKQO",
        "outputId": "31251e9c-0d0c-4921-e140-db263590dbab"
      },
      "outputs": [
        {
          "output_type": "stream",
          "name": "stdout",
          "text": [
            "cp: cannot stat '/usr/lib/chromium-browser/chromedriver': No such file or directory\n"
          ]
        }
      ],
      "source": [
        "!cp /usr/lib/chromium-browser/chromedriver /usr/bin\n"
      ]
    },
    {
      "cell_type": "code",
      "execution_count": null,
      "metadata": {
        "id": "r3-WdzKazPYi"
      },
      "outputs": [],
      "source": [
        "!which chromedriver\n"
      ]
    },
    {
      "cell_type": "code",
      "execution_count": null,
      "metadata": {
        "colab": {
          "base_uri": "https://localhost:8080/"
        },
        "id": "U7Havgt_z3N-",
        "outputId": "c1a2e267-cc69-4d0d-9ed0-9e6a0a15c5dc"
      },
      "outputs": [
        {
          "output_type": "stream",
          "name": "stdout",
          "text": [
            "\u001b[33m\r0% [Working]\u001b[0m\r            \rHit:1 https://cloud.r-project.org/bin/linux/ubuntu jammy-cran40/ InRelease\n",
            "\u001b[33m\r0% [Connecting to archive.ubuntu.com (91.189.91.82)] [Connecting to security.ubuntu.com (185.125.190\u001b[0m\r                                                                                                    \rHit:2 https://developer.download.nvidia.com/compute/cuda/repos/ubuntu2204/x86_64  InRelease\n",
            "Hit:3 http://archive.ubuntu.com/ubuntu jammy InRelease\n",
            "Hit:4 http://archive.ubuntu.com/ubuntu jammy-updates InRelease\n",
            "Hit:5 http://archive.ubuntu.com/ubuntu jammy-backports InRelease\n",
            "Get:6 http://security.ubuntu.com/ubuntu jammy-security InRelease [129 kB]\n",
            "Hit:7 https://r2u.stat.illinois.edu/ubuntu jammy InRelease\n",
            "Hit:8 https://ppa.launchpadcontent.net/deadsnakes/ppa/ubuntu jammy InRelease\n",
            "Hit:9 https://ppa.launchpadcontent.net/graphics-drivers/ppa/ubuntu jammy InRelease\n",
            "Hit:10 https://ppa.launchpadcontent.net/ubuntugis/ppa/ubuntu jammy InRelease\n",
            "Get:11 http://security.ubuntu.com/ubuntu jammy-security/universe amd64 Packages [1,243 kB]\n",
            "Get:12 http://security.ubuntu.com/ubuntu jammy-security/main amd64 Packages [2,775 kB]\n",
            "Fetched 4,147 kB in 2s (1,765 kB/s)\n",
            "Reading package lists... Done\n",
            "Building dependency tree... Done\n",
            "Reading state information... Done\n",
            "44 packages can be upgraded. Run 'apt list --upgradable' to see them.\n",
            "\u001b[1;33mW: \u001b[0mSkipping acquire of configured file 'main/source/Sources' as repository 'https://r2u.stat.illinois.edu/ubuntu jammy InRelease' does not seem to provide it (sources.list entry misspelt?)\u001b[0m\n",
            "Reading package lists... Done\n",
            "Building dependency tree... Done\n",
            "Reading state information... Done\n",
            "chromium-browser is already the newest version (1:85.0.4183.83-0ubuntu2.22.04.1).\n",
            "chromium-chromedriver is already the newest version (1:85.0.4183.83-0ubuntu2.22.04.1).\n",
            "0 upgraded, 0 newly installed, 0 to remove and 44 not upgraded.\n",
            "cp: cannot stat '/usr/lib/chromium-browser/chromedriver': No such file or directory\n"
          ]
        }
      ],
      "source": [
        "!apt update\n",
        "!apt install -y chromium-browser chromium-chromedriver\n",
        "!cp /usr/lib/chromium-browser/chromedriver /usr/bin/\n"
      ]
    },
    {
      "cell_type": "code",
      "execution_count": null,
      "metadata": {
        "colab": {
          "base_uri": "https://localhost:8080/"
        },
        "id": "HnQ277xH0SoF",
        "outputId": "d7da2caa-873b-482b-baf7-55be889e0b80"
      },
      "outputs": [
        {
          "output_type": "stream",
          "name": "stdout",
          "text": [
            "Hit:1 https://cloud.r-project.org/bin/linux/ubuntu jammy-cran40/ InRelease\n",
            "Hit:2 https://developer.download.nvidia.com/compute/cuda/repos/ubuntu2204/x86_64  InRelease\n",
            "Hit:3 http://security.ubuntu.com/ubuntu jammy-security InRelease\n",
            "Hit:4 http://archive.ubuntu.com/ubuntu jammy InRelease\n",
            "Hit:5 http://archive.ubuntu.com/ubuntu jammy-updates InRelease\n",
            "Hit:6 http://archive.ubuntu.com/ubuntu jammy-backports InRelease\n",
            "Hit:7 https://r2u.stat.illinois.edu/ubuntu jammy InRelease\n",
            "Hit:8 https://ppa.launchpadcontent.net/deadsnakes/ppa/ubuntu jammy InRelease\n",
            "Hit:9 https://ppa.launchpadcontent.net/graphics-drivers/ppa/ubuntu jammy InRelease\n",
            "Hit:10 https://ppa.launchpadcontent.net/ubuntugis/ppa/ubuntu jammy InRelease\n",
            "Reading package lists... Done\n",
            "W: Skipping acquire of configured file 'main/source/Sources' as repository 'https://r2u.stat.illinois.edu/ubuntu jammy InRelease' does not seem to provide it (sources.list entry misspelt?)\n",
            "Reading package lists... Done\n",
            "Building dependency tree... Done\n",
            "Reading state information... Done\n",
            "Note, selecting 'chromium-chromedriver' instead of 'chromium-driver'\n",
            "chromium-chromedriver is already the newest version (1:85.0.4183.83-0ubuntu2.22.04.1).\n",
            "0 upgraded, 0 newly installed, 0 to remove and 44 not upgraded.\n"
          ]
        }
      ],
      "source": [
        "!apt-get update\n",
        "!apt-get install -y chromium-driver\n"
      ]
    },
    {
      "cell_type": "code",
      "execution_count": null,
      "metadata": {
        "id": "71QWrh6w0YB-"
      },
      "outputs": [],
      "source": [
        "!which chromedriver\n"
      ]
    },
    {
      "cell_type": "code",
      "execution_count": null,
      "metadata": {
        "colab": {
          "base_uri": "https://localhost:8080/"
        },
        "id": "4TcztzIU08a7",
        "outputId": "78634537-2e57-4f69-81e7-2c7073224af9"
      },
      "outputs": [
        {
          "output_type": "stream",
          "name": "stdout",
          "text": [
            "--2025-04-07 11:34:25--  https://storage.googleapis.com/chrome-for-testing-public/135.0.7049.52/linux64/chromedriver-linux64.zip\n",
            "Resolving storage.googleapis.com (storage.googleapis.com)... 74.125.142.207, 74.125.195.207, 172.253.117.207, ...\n",
            "Connecting to storage.googleapis.com (storage.googleapis.com)|74.125.142.207|:443... connected.\n",
            "HTTP request sent, awaiting response... 200 OK\n",
            "Length: 9574326 (9.1M) [application/zip]\n",
            "Saving to: ‘/tmp/chromedriver-linux64.zip’\n",
            "\n",
            "/tmp/chromedriver-l 100%[===================>]   9.13M  --.-KB/s    in 0.07s   \n",
            "\n",
            "2025-04-07 11:34:25 (128 MB/s) - ‘/tmp/chromedriver-linux64.zip’ saved [9574326/9574326]\n",
            "\n",
            "Archive:  /tmp/chromedriver-linux64.zip\n",
            "  inflating: /tmp/chromedriver-linux64/LICENSE.chromedriver  \n",
            "  inflating: /tmp/chromedriver-linux64/THIRD_PARTY_NOTICES.chromedriver  \n",
            "  inflating: /tmp/chromedriver-linux64/chromedriver  \n"
          ]
        }
      ],
      "source": [
        "!wget -O /tmp/chromedriver-linux64.zip https://storage.googleapis.com/chrome-for-testing-public/135.0.7049.52/linux64/chromedriver-linux64.zip\n",
        "!unzip /tmp/chromedriver-linux64.zip -d /tmp/\n",
        "!chmod +x /tmp/chromedriver-linux64/chromedriver\n",
        "!mv /tmp/chromedriver-linux64/chromedriver /usr/bin/chromedriver\n"
      ]
    },
    {
      "cell_type": "code",
      "execution_count": null,
      "metadata": {
        "colab": {
          "base_uri": "https://localhost:8080/"
        },
        "id": "-otvAhGG1AX_",
        "outputId": "d6752f95-c8a4-4993-c44f-f7c4aee5ba6f"
      },
      "outputs": [
        {
          "output_type": "stream",
          "name": "stdout",
          "text": [
            "/usr/bin/chromedriver\n"
          ]
        }
      ],
      "source": [
        "!which chromedriver\n"
      ]
    },
    {
      "cell_type": "code",
      "execution_count": null,
      "metadata": {
        "colab": {
          "base_uri": "https://localhost:8080/"
        },
        "id": "O2DYbZ911F9_",
        "outputId": "aa9ab722-64ec-4dc0-d2e4-90fee1a34379"
      },
      "outputs": [
        {
          "output_type": "stream",
          "name": "stdout",
          "text": [
            "Reading package lists... Done\n",
            "Building dependency tree... Done\n",
            "Reading state information... Done\n",
            "The following packages were automatically installed and are no longer required:\n",
            "  apparmor libfuse3-3 snapd squashfs-tools systemd-hwe-hwdb udev\n",
            "Use 'apt autoremove' to remove them.\n",
            "The following packages will be REMOVED:\n",
            "  chromium-browser* chromium-chromedriver*\n",
            "0 upgraded, 0 newly installed, 2 to remove and 44 not upgraded.\n",
            "After this operation, 243 kB disk space will be freed.\n",
            "(Reading database ... 126689 files and directories currently installed.)\n",
            "Removing chromium-chromedriver (1:85.0.4183.83-0ubuntu2.22.04.1) ...\n",
            "Removing chromium-browser (1:85.0.4183.83-0ubuntu2.22.04.1) ...\n",
            "Processing triggers for mailcap (3.70+nmu1ubuntu1) ...\n",
            "Processing triggers for hicolor-icon-theme (0.17-2) ...\n",
            "(Reading database ... 126668 files and directories currently installed.)\n",
            "Purging configuration files for chromium-browser (1:85.0.4183.83-0ubuntu2.22.04.1) ...\n"
          ]
        }
      ],
      "source": [
        "!apt purge chromium-browser chromium-chromedriver -y\n",
        "!rm -rf /usr/bin/chromedriver /usr/bin/chrome /usr/local/bin/chrome\n"
      ]
    },
    {
      "cell_type": "code",
      "execution_count": null,
      "metadata": {
        "colab": {
          "base_uri": "https://localhost:8080/"
        },
        "id": "mi2YaYat2bRW",
        "outputId": "359ec2b2-312f-4d15-f366-29f487e062bc"
      },
      "outputs": [
        {
          "output_type": "stream",
          "name": "stdout",
          "text": [
            "Archive:  /tmp/chrome-linux64.zip\n",
            "  inflating: /tmp/chrome-linux64/ABOUT  \n",
            "  inflating: /tmp/chrome-linux64/MEIPreload/manifest.json  \n",
            "  inflating: /tmp/chrome-linux64/MEIPreload/preloaded_data.pb  \n",
            "  inflating: /tmp/chrome-linux64/PrivacySandboxAttestationsPreloaded/manifest.json  \n",
            "  inflating: /tmp/chrome-linux64/PrivacySandboxAttestationsPreloaded/privacy-sandbox-attestations.dat  \n",
            "  inflating: /tmp/chrome-linux64/WidevineCdm/LICENSE  \n",
            "  inflating: /tmp/chrome-linux64/WidevineCdm/_platform_specific/linux_x64/libwidevinecdm.so  \n",
            "  inflating: /tmp/chrome-linux64/WidevineCdm/manifest.json  \n",
            "  inflating: /tmp/chrome-linux64/chrome  \n",
            "  inflating: /tmp/chrome-linux64/chrome-wrapper  \n",
            "  inflating: /tmp/chrome-linux64/chrome_100_percent.pak  \n",
            "  inflating: /tmp/chrome-linux64/chrome_200_percent.pak  \n",
            "  inflating: /tmp/chrome-linux64/chrome_crashpad_handler  \n",
            "  inflating: /tmp/chrome-linux64/chrome_sandbox  \n",
            "  inflating: /tmp/chrome-linux64/deb.deps  \n",
            "  inflating: /tmp/chrome-linux64/icudtl.dat  \n",
            "  inflating: /tmp/chrome-linux64/libEGL.so  \n",
            "  inflating: /tmp/chrome-linux64/libGLESv2.so  \n",
            "  inflating: /tmp/chrome-linux64/libvk_swiftshader.so  \n",
            "  inflating: /tmp/chrome-linux64/libvulkan.so.1  \n",
            "  inflating: /tmp/chrome-linux64/locales/af.pak  \n",
            "  inflating: /tmp/chrome-linux64/locales/am.pak  \n",
            "  inflating: /tmp/chrome-linux64/locales/ar.pak  \n",
            "  inflating: /tmp/chrome-linux64/locales/bg.pak  \n",
            "  inflating: /tmp/chrome-linux64/locales/bn.pak  \n",
            "  inflating: /tmp/chrome-linux64/locales/ca.pak  \n",
            "  inflating: /tmp/chrome-linux64/locales/cs.pak  \n",
            "  inflating: /tmp/chrome-linux64/locales/da.pak  \n",
            "  inflating: /tmp/chrome-linux64/locales/de.pak  \n",
            "  inflating: /tmp/chrome-linux64/locales/el.pak  \n",
            "  inflating: /tmp/chrome-linux64/locales/en-GB.pak  \n",
            "  inflating: /tmp/chrome-linux64/locales/en-US.pak  \n",
            "  inflating: /tmp/chrome-linux64/locales/es-419.pak  \n",
            "  inflating: /tmp/chrome-linux64/locales/es.pak  \n",
            "  inflating: /tmp/chrome-linux64/locales/et.pak  \n",
            "  inflating: /tmp/chrome-linux64/locales/fa.pak  \n",
            "  inflating: /tmp/chrome-linux64/locales/fi.pak  \n",
            "  inflating: /tmp/chrome-linux64/locales/fil.pak  \n",
            "  inflating: /tmp/chrome-linux64/locales/fr.pak  \n",
            "  inflating: /tmp/chrome-linux64/locales/gu.pak  \n",
            "  inflating: /tmp/chrome-linux64/locales/he.pak  \n",
            "  inflating: /tmp/chrome-linux64/locales/hi.pak  \n",
            "  inflating: /tmp/chrome-linux64/locales/hr.pak  \n",
            "  inflating: /tmp/chrome-linux64/locales/hu.pak  \n",
            "  inflating: /tmp/chrome-linux64/locales/id.pak  \n",
            "  inflating: /tmp/chrome-linux64/locales/it.pak  \n",
            "  inflating: /tmp/chrome-linux64/locales/ja.pak  \n",
            "  inflating: /tmp/chrome-linux64/locales/kn.pak  \n",
            "  inflating: /tmp/chrome-linux64/locales/ko.pak  \n",
            "  inflating: /tmp/chrome-linux64/locales/lt.pak  \n",
            "  inflating: /tmp/chrome-linux64/locales/lv.pak  \n",
            "  inflating: /tmp/chrome-linux64/locales/ml.pak  \n",
            "  inflating: /tmp/chrome-linux64/locales/mr.pak  \n",
            "  inflating: /tmp/chrome-linux64/locales/ms.pak  \n",
            "  inflating: /tmp/chrome-linux64/locales/nb.pak  \n",
            "  inflating: /tmp/chrome-linux64/locales/nl.pak  \n",
            "  inflating: /tmp/chrome-linux64/locales/pl.pak  \n",
            "  inflating: /tmp/chrome-linux64/locales/pt-BR.pak  \n",
            "  inflating: /tmp/chrome-linux64/locales/pt-PT.pak  \n",
            "  inflating: /tmp/chrome-linux64/locales/ro.pak  \n",
            "  inflating: /tmp/chrome-linux64/locales/ru.pak  \n",
            "  inflating: /tmp/chrome-linux64/locales/sk.pak  \n",
            "  inflating: /tmp/chrome-linux64/locales/sl.pak  \n",
            "  inflating: /tmp/chrome-linux64/locales/sr.pak  \n",
            "  inflating: /tmp/chrome-linux64/locales/sv.pak  \n",
            "  inflating: /tmp/chrome-linux64/locales/sw.pak  \n",
            "  inflating: /tmp/chrome-linux64/locales/ta.pak  \n",
            "  inflating: /tmp/chrome-linux64/locales/te.pak  \n",
            "  inflating: /tmp/chrome-linux64/locales/th.pak  \n",
            "  inflating: /tmp/chrome-linux64/locales/tr.pak  \n",
            "  inflating: /tmp/chrome-linux64/locales/uk.pak  \n",
            "  inflating: /tmp/chrome-linux64/locales/ur.pak  \n",
            "  inflating: /tmp/chrome-linux64/locales/vi.pak  \n",
            "  inflating: /tmp/chrome-linux64/locales/zh-CN.pak  \n",
            "  inflating: /tmp/chrome-linux64/locales/zh-TW.pak  \n",
            " extracting: /tmp/chrome-linux64/product_logo_48.png  \n",
            "  inflating: /tmp/chrome-linux64/resources.pak  \n",
            "  inflating: /tmp/chrome-linux64/rpm.deps  \n",
            "  inflating: /tmp/chrome-linux64/v8_context_snapshot.bin  \n",
            "  inflating: /tmp/chrome-linux64/vk_swiftshader_icd.json  \n",
            "  inflating: /tmp/chrome-linux64/xdg-mime  \n",
            "  inflating: /tmp/chrome-linux64/xdg-settings  \n",
            "   creating: /tmp/chrome-linux64/resources/\n",
            "   creating: /tmp/chrome-linux64/resources/accessibility/\n",
            "  inflating: /tmp/chrome-linux64/resources/accessibility/reading_mode_gdocs_helper_manifest.json  \n",
            "   creating: /tmp/chrome-linux64/resources/accessibility/reading_mode_gdocs_helper/\n",
            "  inflating: /tmp/chrome-linux64/resources/accessibility/reading_mode_gdocs_helper/content.js  \n",
            "  inflating: /tmp/chrome-linux64/resources/accessibility/reading_mode_gdocs_helper/gdocs_script.js  \n",
            "   creating: /tmp/chrome-linux64/resources/inspector_overlay/\n",
            "  inflating: /tmp/chrome-linux64/resources/inspector_overlay/main.js  \n",
            "  inflating: /tmp/chrome-linux64/resources/inspector_overlay/inspector_overlay_resources.grd  \n",
            "   creating: /tmp/chrome-linux64/hyphen-data/\n",
            "  inflating: /tmp/chrome-linux64/hyphen-data/hyph-de-1996.hyb  \n",
            "  inflating: /tmp/chrome-linux64/hyphen-data/hyph-cu.hyb  \n",
            "  inflating: /tmp/chrome-linux64/hyphen-data/hyph-nn.hyb  \n",
            "  inflating: /tmp/chrome-linux64/hyphen-data/hyph-be.hyb  \n",
            "  inflating: /tmp/chrome-linux64/hyphen-data/hyph-ka.hyb  \n",
            "  inflating: /tmp/chrome-linux64/hyphen-data/hyph-kn.hyb  \n",
            "  inflating: /tmp/chrome-linux64/hyphen-data/hyph-ml.hyb  \n",
            "  inflating: /tmp/chrome-linux64/hyphen-data/hyph-te.hyb  \n",
            "  inflating: /tmp/chrome-linux64/hyphen-data/hyph-cs.hyb  \n",
            "  inflating: /tmp/chrome-linux64/hyphen-data/hyph-sl.hyb  \n",
            "  inflating: /tmp/chrome-linux64/hyphen-data/hyph-or.hyb  \n",
            "  inflating: /tmp/chrome-linux64/hyphen-data/hyph-da.hyb  \n",
            "  inflating: /tmp/chrome-linux64/hyphen-data/hyph-lt.hyb  \n",
            "  inflating: /tmp/chrome-linux64/hyphen-data/hyph-el.hyb  \n",
            "  inflating: /tmp/chrome-linux64/hyphen-data/hyph-et.hyb  \n",
            "  inflating: /tmp/chrome-linux64/hyphen-data/hyph-fr.hyb  \n",
            "  inflating: /tmp/chrome-linux64/hyphen-data/hyph-mr.hyb  \n",
            "  inflating: /tmp/chrome-linux64/hyphen-data/hyph-bn.hyb  \n",
            "  inflating: /tmp/chrome-linux64/hyphen-data/hyph-ru.hyb  \n",
            "  inflating: /tmp/chrome-linux64/hyphen-data/hyph-as.hyb  \n",
            "  inflating: /tmp/chrome-linux64/hyphen-data/hyph-hr.hyb  \n",
            "  inflating: /tmp/chrome-linux64/hyphen-data/hyph-pa.hyb  \n",
            "  inflating: /tmp/chrome-linux64/hyphen-data/hyph-cy.hyb  \n",
            "  inflating: /tmp/chrome-linux64/hyphen-data/hyph-es.hyb  \n",
            "  inflating: /tmp/chrome-linux64/hyphen-data/hyph-und-ethi.hyb  \n",
            "  inflating: /tmp/chrome-linux64/hyphen-data/hyph-ga.hyb  \n",
            "  inflating: /tmp/chrome-linux64/hyphen-data/hyph-tk.hyb  \n",
            "  inflating: /tmp/chrome-linux64/hyphen-data/hyph-gu.hyb  \n",
            "  inflating: /tmp/chrome-linux64/hyphen-data/hyph-eu.hyb  \n",
            "  inflating: /tmp/chrome-linux64/hyphen-data/hyph-bg.hyb  \n",
            "  inflating: /tmp/chrome-linux64/hyphen-data/hyph-uk.hyb  \n",
            "  inflating: /tmp/chrome-linux64/hyphen-data/hyph-it.hyb  \n",
            "  inflating: /tmp/chrome-linux64/hyphen-data/hyph-nb.hyb  \n",
            "  inflating: /tmp/chrome-linux64/hyphen-data/hyph-mul-ethi.hyb  \n",
            "  inflating: /tmp/chrome-linux64/hyphen-data/hyph-nl.hyb  \n",
            "  inflating: /tmp/chrome-linux64/hyphen-data/hyph-sv.hyb  \n",
            "  inflating: /tmp/chrome-linux64/hyphen-data/hyph-af.hyb  \n",
            "  inflating: /tmp/chrome-linux64/hyphen-data/hyph-en-gb.hyb  \n",
            "  inflating: /tmp/chrome-linux64/hyphen-data/hyph-mn-cyrl.hyb  \n",
            "  inflating: /tmp/chrome-linux64/hyphen-data/hyph-hu.hyb  \n",
            "  inflating: /tmp/chrome-linux64/hyphen-data/hyph-sk.hyb  \n",
            "  inflating: /tmp/chrome-linux64/hyphen-data/hyph-sq.hyb  \n",
            "  inflating: /tmp/chrome-linux64/hyphen-data/hyph-hy.hyb  \n",
            "  inflating: /tmp/chrome-linux64/hyphen-data/manifest.json  \n",
            "  inflating: /tmp/chrome-linux64/hyphen-data/hyph-ta.hyb  \n",
            "  inflating: /tmp/chrome-linux64/hyphen-data/hyph-la.hyb  \n",
            "  inflating: /tmp/chrome-linux64/hyphen-data/hyph-pt.hyb  \n",
            "  inflating: /tmp/chrome-linux64/hyphen-data/hyph-de-ch-1901.hyb  \n",
            "  inflating: /tmp/chrome-linux64/hyphen-data/hyph-en-us.hyb  \n",
            "  inflating: /tmp/chrome-linux64/hyphen-data/hyph-hi.hyb  \n",
            "  inflating: /tmp/chrome-linux64/hyphen-data/hyph-lv.hyb  \n",
            "  inflating: /tmp/chrome-linux64/hyphen-data/hyph-de-1901.hyb  \n",
            "  inflating: /tmp/chrome-linux64/hyphen-data/hyph-gl.hyb  \n"
          ]
        }
      ],
      "source": [
        "!wget -q -O /tmp/chrome-linux64.zip https://storage.googleapis.com/chrome-for-testing-public/135.0.7049.52/linux64/chrome-linux64.zip\n",
        "!unzip /tmp/chrome-linux64.zip -d /tmp/\n",
        "!mv /tmp/chrome-linux64 /usr/local/bin/chrome\n",
        "!ln -s /usr/local/bin/chrome/chrome /usr/bin/google-chrome\n"
      ]
    },
    {
      "cell_type": "code",
      "execution_count": null,
      "metadata": {
        "colab": {
          "base_uri": "https://localhost:8080/"
        },
        "id": "DX9dJH1V2giq",
        "outputId": "5241dc83-1c38-4d7e-f308-0cafe0a85d19"
      },
      "outputs": [
        {
          "output_type": "stream",
          "name": "stdout",
          "text": [
            "  % Total    % Received % Xferd  Average Speed   Time    Time     Time  Current\n",
            "                                 Dload  Upload   Total   Spent    Left  Speed\n",
            "100 9349k  100 9349k    0     0  15.1M      0 --:--:-- --:--:-- --:--:-- 15.2M\n",
            "Archive:  /tmp/chromedriver-linux64.zip\n",
            "  inflating: /tmp/chromedriver-linux64/LICENSE.chromedriver  \n",
            "  inflating: /tmp/chromedriver-linux64/THIRD_PARTY_NOTICES.chromedriver  \n",
            "  inflating: /tmp/chromedriver-linux64/chromedriver  \n"
          ]
        }
      ],
      "source": [
        "!curl -L -o /tmp/chromedriver-linux64.zip https://storage.googleapis.com/chrome-for-testing-public/135.0.7049.52/linux64/chromedriver-linux64.zip\n",
        "!unzip -o /tmp/chromedriver-linux64.zip -d /tmp/\n",
        "!chmod +x /tmp/chromedriver-linux64/chromedriver\n",
        "!mv /tmp/chromedriver-linux64/chromedriver /usr/bin/chromedriver\n"
      ]
    },
    {
      "cell_type": "code",
      "source": [
        "!chmod +x /tmp/chromedriver-linux64/chromedriver\n",
        "!mv /tmp/chromedriver-linux64/chromedriver /usr/bin/chromedriver\n",
        "!which chromedriver\n",
        "!chromedriver --version\n"
      ],
      "metadata": {
        "colab": {
          "base_uri": "https://localhost:8080/"
        },
        "id": "G_KIPOGHEjqb",
        "outputId": "5fd27910-15ab-4cda-9781-48ac13ff7100"
      },
      "execution_count": null,
      "outputs": [
        {
          "output_type": "stream",
          "name": "stdout",
          "text": [
            "chmod: cannot access '/tmp/chromedriver-linux64/chromedriver': No such file or directory\n",
            "mv: cannot stat '/tmp/chromedriver-linux64/chromedriver': No such file or directory\n",
            "/usr/bin/chromedriver\n",
            "ChromeDriver 135.0.7049.52 (9ba7e609d28c509a8ce9265c2247065d8d251173-refs/branch-heads/7049_41@{#4})\n"
          ]
        }
      ]
    },
    {
      "cell_type": "code",
      "source": [
        "from selenium import webdriver\n",
        "from selenium.webdriver.chrome.service import Service\n",
        "from selenium.webdriver.chrome.options import Options\n",
        "\n",
        "options = Options()\n",
        "options.add_argument(\"--headless\")\n",
        "options.add_argument(\"--no-sandbox\")\n",
        "options.add_argument(\"--disable-dev-shm-usage\")\n",
        "\n",
        "service = Service(\"/usr/bin/chromedriver\")\n",
        "driver = webdriver.Chrome(service=service, options=options)\n",
        "\n",
        "driver.get(\"https://www.google.com\")\n",
        "print(driver.title)  # Should print: Google\n",
        "driver.quit()\n"
      ],
      "metadata": {
        "colab": {
          "base_uri": "https://localhost:8080/"
        },
        "id": "6hCQtG_pEliU",
        "outputId": "e84a3f31-c9a5-4597-af72-94178ca51c0b"
      },
      "execution_count": null,
      "outputs": [
        {
          "output_type": "stream",
          "name": "stdout",
          "text": [
            "Google\n"
          ]
        }
      ]
    },
    {
      "cell_type": "code",
      "source": [
        "df[\"title\"] = df[\"title\"].fillna(\"\").astype(str)\n",
        "df[\"description\"] = df[\"description\"].fillna(\"\").astype(str)\n",
        "df[\"combined\"] = df[\"title\"] + \" \" + df[\"description\"]\n",
        "\n",
        "print(\"Sample combined entries:\")\n",
        "print(df[\"combined\"].head())\n"
      ],
      "metadata": {
        "colab": {
          "base_uri": "https://localhost:8080/"
        },
        "id": "NHzAmKIFV8bv",
        "outputId": "81d5a825-0b04-4490-a4cc-be4bd442bb85"
      },
      "execution_count": null,
      "outputs": [
        {
          "output_type": "stream",
          "name": "stdout",
          "text": [
            "Sample combined entries:\n",
            "Series([], Name: combined, dtype: object)\n"
          ]
        }
      ]
    },
    {
      "cell_type": "code",
      "source": [
        "df = pd.DataFrame({\n",
        "    \"title\": [\"Cognitive Ability\", \"Personality Test\"],\n",
        "    \"description\": [\"Measures logic and reasoning\", \"Assesses behavioral traits\"],\n",
        "    \"url\": [\"https://example.com/1\", \"https://example.com/2\"],\n",
        "    \"remote_testing_support\": [\"Yes\", \"Yes\"],\n",
        "    \"adaptive_irt_support\": [\"No\", \"Yes\"],\n",
        "    \"duration_minutes\": [30, 20],\n",
        "    \"test_type\": [\"Cognitive\", \"Personality\"]\n",
        "})\n",
        "df[\"combined\"] = df[\"title\"] + \" \" + df[\"description\"]\n"
      ],
      "metadata": {
        "id": "Ogm9qQKMW5_u"
      },
      "execution_count": null,
      "outputs": []
    },
    {
      "cell_type": "code",
      "source": [
        "import pandas as pd\n",
        "\n",
        "# Load the CSV\n",
        "df = pd.read_csv(\"shl_sample_100_assessments.csv\")\n",
        "\n",
        "# Show the first few rows\n",
        "df.head()\n"
      ],
      "metadata": {
        "colab": {
          "base_uri": "https://localhost:8080/",
          "height": 206
        },
        "id": "JLetR6Kgd2GV",
        "outputId": "fd9f2177-1f4a-4430-999e-4a63bc970af2"
      },
      "execution_count": 2,
      "outputs": [
        {
          "output_type": "execute_result",
          "data": {
            "text/plain": [
              "          title                                        description  \\\n",
              "0  Assessment 1  This is a simulated description for Assessment...   \n",
              "1  Assessment 2  This is a simulated description for Assessment...   \n",
              "2  Assessment 3  This is a simulated description for Assessment...   \n",
              "3  Assessment 4  This is a simulated description for Assessment...   \n",
              "4  Assessment 5  This is a simulated description for Assessment...   \n",
              "\n",
              "                                url remote_testing_support  \\\n",
              "0  https://www.shl.com/assessment-1                     No   \n",
              "1  https://www.shl.com/assessment-2                    Yes   \n",
              "2  https://www.shl.com/assessment-3                    Yes   \n",
              "3  https://www.shl.com/assessment-4                     No   \n",
              "4  https://www.shl.com/assessment-5                    Yes   \n",
              "\n",
              "  adaptive_irt_support  duration_minutes             test_type  \n",
              "0                   No                15             Technical  \n",
              "1                  Yes                50            Behavioral  \n",
              "2                  Yes                60            Behavioral  \n",
              "3                   No                50  Situational Judgment  \n",
              "4                   No                10  Situational Judgment  "
            ],
            "text/html": [
              "\n",
              "  <div id=\"df-74a36ae5-9c65-43fe-9370-3b799ec68584\" class=\"colab-df-container\">\n",
              "    <div>\n",
              "<style scoped>\n",
              "    .dataframe tbody tr th:only-of-type {\n",
              "        vertical-align: middle;\n",
              "    }\n",
              "\n",
              "    .dataframe tbody tr th {\n",
              "        vertical-align: top;\n",
              "    }\n",
              "\n",
              "    .dataframe thead th {\n",
              "        text-align: right;\n",
              "    }\n",
              "</style>\n",
              "<table border=\"1\" class=\"dataframe\">\n",
              "  <thead>\n",
              "    <tr style=\"text-align: right;\">\n",
              "      <th></th>\n",
              "      <th>title</th>\n",
              "      <th>description</th>\n",
              "      <th>url</th>\n",
              "      <th>remote_testing_support</th>\n",
              "      <th>adaptive_irt_support</th>\n",
              "      <th>duration_minutes</th>\n",
              "      <th>test_type</th>\n",
              "    </tr>\n",
              "  </thead>\n",
              "  <tbody>\n",
              "    <tr>\n",
              "      <th>0</th>\n",
              "      <td>Assessment 1</td>\n",
              "      <td>This is a simulated description for Assessment...</td>\n",
              "      <td>https://www.shl.com/assessment-1</td>\n",
              "      <td>No</td>\n",
              "      <td>No</td>\n",
              "      <td>15</td>\n",
              "      <td>Technical</td>\n",
              "    </tr>\n",
              "    <tr>\n",
              "      <th>1</th>\n",
              "      <td>Assessment 2</td>\n",
              "      <td>This is a simulated description for Assessment...</td>\n",
              "      <td>https://www.shl.com/assessment-2</td>\n",
              "      <td>Yes</td>\n",
              "      <td>Yes</td>\n",
              "      <td>50</td>\n",
              "      <td>Behavioral</td>\n",
              "    </tr>\n",
              "    <tr>\n",
              "      <th>2</th>\n",
              "      <td>Assessment 3</td>\n",
              "      <td>This is a simulated description for Assessment...</td>\n",
              "      <td>https://www.shl.com/assessment-3</td>\n",
              "      <td>Yes</td>\n",
              "      <td>Yes</td>\n",
              "      <td>60</td>\n",
              "      <td>Behavioral</td>\n",
              "    </tr>\n",
              "    <tr>\n",
              "      <th>3</th>\n",
              "      <td>Assessment 4</td>\n",
              "      <td>This is a simulated description for Assessment...</td>\n",
              "      <td>https://www.shl.com/assessment-4</td>\n",
              "      <td>No</td>\n",
              "      <td>No</td>\n",
              "      <td>50</td>\n",
              "      <td>Situational Judgment</td>\n",
              "    </tr>\n",
              "    <tr>\n",
              "      <th>4</th>\n",
              "      <td>Assessment 5</td>\n",
              "      <td>This is a simulated description for Assessment...</td>\n",
              "      <td>https://www.shl.com/assessment-5</td>\n",
              "      <td>Yes</td>\n",
              "      <td>No</td>\n",
              "      <td>10</td>\n",
              "      <td>Situational Judgment</td>\n",
              "    </tr>\n",
              "  </tbody>\n",
              "</table>\n",
              "</div>\n",
              "    <div class=\"colab-df-buttons\">\n",
              "\n",
              "  <div class=\"colab-df-container\">\n",
              "    <button class=\"colab-df-convert\" onclick=\"convertToInteractive('df-74a36ae5-9c65-43fe-9370-3b799ec68584')\"\n",
              "            title=\"Convert this dataframe to an interactive table.\"\n",
              "            style=\"display:none;\">\n",
              "\n",
              "  <svg xmlns=\"http://www.w3.org/2000/svg\" height=\"24px\" viewBox=\"0 -960 960 960\">\n",
              "    <path d=\"M120-120v-720h720v720H120Zm60-500h600v-160H180v160Zm220 220h160v-160H400v160Zm0 220h160v-160H400v160ZM180-400h160v-160H180v160Zm440 0h160v-160H620v160ZM180-180h160v-160H180v160Zm440 0h160v-160H620v160Z\"/>\n",
              "  </svg>\n",
              "    </button>\n",
              "\n",
              "  <style>\n",
              "    .colab-df-container {\n",
              "      display:flex;\n",
              "      gap: 12px;\n",
              "    }\n",
              "\n",
              "    .colab-df-convert {\n",
              "      background-color: #E8F0FE;\n",
              "      border: none;\n",
              "      border-radius: 50%;\n",
              "      cursor: pointer;\n",
              "      display: none;\n",
              "      fill: #1967D2;\n",
              "      height: 32px;\n",
              "      padding: 0 0 0 0;\n",
              "      width: 32px;\n",
              "    }\n",
              "\n",
              "    .colab-df-convert:hover {\n",
              "      background-color: #E2EBFA;\n",
              "      box-shadow: 0px 1px 2px rgba(60, 64, 67, 0.3), 0px 1px 3px 1px rgba(60, 64, 67, 0.15);\n",
              "      fill: #174EA6;\n",
              "    }\n",
              "\n",
              "    .colab-df-buttons div {\n",
              "      margin-bottom: 4px;\n",
              "    }\n",
              "\n",
              "    [theme=dark] .colab-df-convert {\n",
              "      background-color: #3B4455;\n",
              "      fill: #D2E3FC;\n",
              "    }\n",
              "\n",
              "    [theme=dark] .colab-df-convert:hover {\n",
              "      background-color: #434B5C;\n",
              "      box-shadow: 0px 1px 3px 1px rgba(0, 0, 0, 0.15);\n",
              "      filter: drop-shadow(0px 1px 2px rgba(0, 0, 0, 0.3));\n",
              "      fill: #FFFFFF;\n",
              "    }\n",
              "  </style>\n",
              "\n",
              "    <script>\n",
              "      const buttonEl =\n",
              "        document.querySelector('#df-74a36ae5-9c65-43fe-9370-3b799ec68584 button.colab-df-convert');\n",
              "      buttonEl.style.display =\n",
              "        google.colab.kernel.accessAllowed ? 'block' : 'none';\n",
              "\n",
              "      async function convertToInteractive(key) {\n",
              "        const element = document.querySelector('#df-74a36ae5-9c65-43fe-9370-3b799ec68584');\n",
              "        const dataTable =\n",
              "          await google.colab.kernel.invokeFunction('convertToInteractive',\n",
              "                                                    [key], {});\n",
              "        if (!dataTable) return;\n",
              "\n",
              "        const docLinkHtml = 'Like what you see? Visit the ' +\n",
              "          '<a target=\"_blank\" href=https://colab.research.google.com/notebooks/data_table.ipynb>data table notebook</a>'\n",
              "          + ' to learn more about interactive tables.';\n",
              "        element.innerHTML = '';\n",
              "        dataTable['output_type'] = 'display_data';\n",
              "        await google.colab.output.renderOutput(dataTable, element);\n",
              "        const docLink = document.createElement('div');\n",
              "        docLink.innerHTML = docLinkHtml;\n",
              "        element.appendChild(docLink);\n",
              "      }\n",
              "    </script>\n",
              "  </div>\n",
              "\n",
              "\n",
              "<div id=\"df-486eb321-c3c3-4b09-931d-36174e4e16de\">\n",
              "  <button class=\"colab-df-quickchart\" onclick=\"quickchart('df-486eb321-c3c3-4b09-931d-36174e4e16de')\"\n",
              "            title=\"Suggest charts\"\n",
              "            style=\"display:none;\">\n",
              "\n",
              "<svg xmlns=\"http://www.w3.org/2000/svg\" height=\"24px\"viewBox=\"0 0 24 24\"\n",
              "     width=\"24px\">\n",
              "    <g>\n",
              "        <path d=\"M19 3H5c-1.1 0-2 .9-2 2v14c0 1.1.9 2 2 2h14c1.1 0 2-.9 2-2V5c0-1.1-.9-2-2-2zM9 17H7v-7h2v7zm4 0h-2V7h2v10zm4 0h-2v-4h2v4z\"/>\n",
              "    </g>\n",
              "</svg>\n",
              "  </button>\n",
              "\n",
              "<style>\n",
              "  .colab-df-quickchart {\n",
              "      --bg-color: #E8F0FE;\n",
              "      --fill-color: #1967D2;\n",
              "      --hover-bg-color: #E2EBFA;\n",
              "      --hover-fill-color: #174EA6;\n",
              "      --disabled-fill-color: #AAA;\n",
              "      --disabled-bg-color: #DDD;\n",
              "  }\n",
              "\n",
              "  [theme=dark] .colab-df-quickchart {\n",
              "      --bg-color: #3B4455;\n",
              "      --fill-color: #D2E3FC;\n",
              "      --hover-bg-color: #434B5C;\n",
              "      --hover-fill-color: #FFFFFF;\n",
              "      --disabled-bg-color: #3B4455;\n",
              "      --disabled-fill-color: #666;\n",
              "  }\n",
              "\n",
              "  .colab-df-quickchart {\n",
              "    background-color: var(--bg-color);\n",
              "    border: none;\n",
              "    border-radius: 50%;\n",
              "    cursor: pointer;\n",
              "    display: none;\n",
              "    fill: var(--fill-color);\n",
              "    height: 32px;\n",
              "    padding: 0;\n",
              "    width: 32px;\n",
              "  }\n",
              "\n",
              "  .colab-df-quickchart:hover {\n",
              "    background-color: var(--hover-bg-color);\n",
              "    box-shadow: 0 1px 2px rgba(60, 64, 67, 0.3), 0 1px 3px 1px rgba(60, 64, 67, 0.15);\n",
              "    fill: var(--button-hover-fill-color);\n",
              "  }\n",
              "\n",
              "  .colab-df-quickchart-complete:disabled,\n",
              "  .colab-df-quickchart-complete:disabled:hover {\n",
              "    background-color: var(--disabled-bg-color);\n",
              "    fill: var(--disabled-fill-color);\n",
              "    box-shadow: none;\n",
              "  }\n",
              "\n",
              "  .colab-df-spinner {\n",
              "    border: 2px solid var(--fill-color);\n",
              "    border-color: transparent;\n",
              "    border-bottom-color: var(--fill-color);\n",
              "    animation:\n",
              "      spin 1s steps(1) infinite;\n",
              "  }\n",
              "\n",
              "  @keyframes spin {\n",
              "    0% {\n",
              "      border-color: transparent;\n",
              "      border-bottom-color: var(--fill-color);\n",
              "      border-left-color: var(--fill-color);\n",
              "    }\n",
              "    20% {\n",
              "      border-color: transparent;\n",
              "      border-left-color: var(--fill-color);\n",
              "      border-top-color: var(--fill-color);\n",
              "    }\n",
              "    30% {\n",
              "      border-color: transparent;\n",
              "      border-left-color: var(--fill-color);\n",
              "      border-top-color: var(--fill-color);\n",
              "      border-right-color: var(--fill-color);\n",
              "    }\n",
              "    40% {\n",
              "      border-color: transparent;\n",
              "      border-right-color: var(--fill-color);\n",
              "      border-top-color: var(--fill-color);\n",
              "    }\n",
              "    60% {\n",
              "      border-color: transparent;\n",
              "      border-right-color: var(--fill-color);\n",
              "    }\n",
              "    80% {\n",
              "      border-color: transparent;\n",
              "      border-right-color: var(--fill-color);\n",
              "      border-bottom-color: var(--fill-color);\n",
              "    }\n",
              "    90% {\n",
              "      border-color: transparent;\n",
              "      border-bottom-color: var(--fill-color);\n",
              "    }\n",
              "  }\n",
              "</style>\n",
              "\n",
              "  <script>\n",
              "    async function quickchart(key) {\n",
              "      const quickchartButtonEl =\n",
              "        document.querySelector('#' + key + ' button');\n",
              "      quickchartButtonEl.disabled = true;  // To prevent multiple clicks.\n",
              "      quickchartButtonEl.classList.add('colab-df-spinner');\n",
              "      try {\n",
              "        const charts = await google.colab.kernel.invokeFunction(\n",
              "            'suggestCharts', [key], {});\n",
              "      } catch (error) {\n",
              "        console.error('Error during call to suggestCharts:', error);\n",
              "      }\n",
              "      quickchartButtonEl.classList.remove('colab-df-spinner');\n",
              "      quickchartButtonEl.classList.add('colab-df-quickchart-complete');\n",
              "    }\n",
              "    (() => {\n",
              "      let quickchartButtonEl =\n",
              "        document.querySelector('#df-486eb321-c3c3-4b09-931d-36174e4e16de button');\n",
              "      quickchartButtonEl.style.display =\n",
              "        google.colab.kernel.accessAllowed ? 'block' : 'none';\n",
              "    })();\n",
              "  </script>\n",
              "</div>\n",
              "\n",
              "    </div>\n",
              "  </div>\n"
            ],
            "application/vnd.google.colaboratory.intrinsic+json": {
              "type": "dataframe",
              "variable_name": "df",
              "summary": "{\n  \"name\": \"df\",\n  \"rows\": 100,\n  \"fields\": [\n    {\n      \"column\": \"title\",\n      \"properties\": {\n        \"dtype\": \"string\",\n        \"num_unique_values\": 100,\n        \"samples\": [\n          \"Assessment 84\",\n          \"Assessment 54\",\n          \"Assessment 71\"\n        ],\n        \"semantic_type\": \"\",\n        \"description\": \"\"\n      }\n    },\n    {\n      \"column\": \"description\",\n      \"properties\": {\n        \"dtype\": \"string\",\n        \"num_unique_values\": 100,\n        \"samples\": [\n          \"This is a simulated description for Assessment 84, designed to evaluate various competencies.\",\n          \"This is a simulated description for Assessment 54, designed to evaluate various competencies.\",\n          \"This is a simulated description for Assessment 71, designed to evaluate various competencies.\"\n        ],\n        \"semantic_type\": \"\",\n        \"description\": \"\"\n      }\n    },\n    {\n      \"column\": \"url\",\n      \"properties\": {\n        \"dtype\": \"string\",\n        \"num_unique_values\": 100,\n        \"samples\": [\n          \"https://www.shl.com/assessment-84\",\n          \"https://www.shl.com/assessment-54\",\n          \"https://www.shl.com/assessment-71\"\n        ],\n        \"semantic_type\": \"\",\n        \"description\": \"\"\n      }\n    },\n    {\n      \"column\": \"remote_testing_support\",\n      \"properties\": {\n        \"dtype\": \"category\",\n        \"num_unique_values\": 2,\n        \"samples\": [\n          \"Yes\",\n          \"No\"\n        ],\n        \"semantic_type\": \"\",\n        \"description\": \"\"\n      }\n    },\n    {\n      \"column\": \"adaptive_irt_support\",\n      \"properties\": {\n        \"dtype\": \"category\",\n        \"num_unique_values\": 2,\n        \"samples\": [\n          \"Yes\",\n          \"No\"\n        ],\n        \"semantic_type\": \"\",\n        \"description\": \"\"\n      }\n    },\n    {\n      \"column\": \"duration_minutes\",\n      \"properties\": {\n        \"dtype\": \"number\",\n        \"std\": 24,\n        \"min\": 10,\n        \"max\": 90,\n        \"num_unique_values\": 17,\n        \"samples\": [\n          15,\n          50\n        ],\n        \"semantic_type\": \"\",\n        \"description\": \"\"\n      }\n    },\n    {\n      \"column\": \"test_type\",\n      \"properties\": {\n        \"dtype\": \"category\",\n        \"num_unique_values\": 6,\n        \"samples\": [\n          \"Technical\",\n          \"Behavioral\"\n        ],\n        \"semantic_type\": \"\",\n        \"description\": \"\"\n      }\n    }\n  ]\n}"
            }
          },
          "metadata": {},
          "execution_count": 2
        }
      ]
    },
    {
      "cell_type": "code",
      "source": [
        "# Combine text for vectorization\n",
        "df['combined'] = df['title'] + \" \" + df['description'] + \" \" + df['test_type']\n"
      ],
      "metadata": {
        "id": "CK6D8gSKeOOi"
      },
      "execution_count": 3,
      "outputs": []
    },
    {
      "cell_type": "code",
      "source": [
        "from sklearn.feature_extraction.text import TfidfVectorizer\n",
        "\n",
        "vectorizer = TfidfVectorizer(stop_words='english')\n",
        "X = vectorizer.fit_transform(df['combined'])\n"
      ],
      "metadata": {
        "id": "cbjRIKsdeRV-"
      },
      "execution_count": 4,
      "outputs": []
    },
    {
      "cell_type": "code",
      "source": [
        "import pickle\n",
        "\n",
        "# Save df\n",
        "with open(\"df.pkl\", \"wb\") as f:\n",
        "    pickle.dump(df, f)\n",
        "\n",
        "# Save TF-IDF matrix\n",
        "with open(\"X.pkl\", \"wb\") as f:\n",
        "    pickle.dump(X, f)\n",
        "\n",
        "# Save vectorizer\n",
        "with open(\"vectorizer.pkl\", \"wb\") as f:\n",
        "    pickle.dump(vectorizer, f)\n"
      ],
      "metadata": {
        "id": "IjmhSSfFeVa1"
      },
      "execution_count": 5,
      "outputs": []
    },
    {
      "cell_type": "code",
      "source": [
        "from google.colab import files\n",
        "\n",
        "files.download(\"df.pkl\")\n",
        "files.download(\"X.pkl\")\n",
        "files.download(\"vectorizer.pkl\")\n"
      ],
      "metadata": {
        "colab": {
          "base_uri": "https://localhost:8080/",
          "height": 17
        },
        "id": "TpDLVvjPeZ6T",
        "outputId": "e9fafe08-6f06-4e50-99f7-0e91a4fe818d"
      },
      "execution_count": 7,
      "outputs": [
        {
          "output_type": "display_data",
          "data": {
            "text/plain": [
              "<IPython.core.display.Javascript object>"
            ],
            "application/javascript": [
              "\n",
              "    async function download(id, filename, size) {\n",
              "      if (!google.colab.kernel.accessAllowed) {\n",
              "        return;\n",
              "      }\n",
              "      const div = document.createElement('div');\n",
              "      const label = document.createElement('label');\n",
              "      label.textContent = `Downloading \"${filename}\": `;\n",
              "      div.appendChild(label);\n",
              "      const progress = document.createElement('progress');\n",
              "      progress.max = size;\n",
              "      div.appendChild(progress);\n",
              "      document.body.appendChild(div);\n",
              "\n",
              "      const buffers = [];\n",
              "      let downloaded = 0;\n",
              "\n",
              "      const channel = await google.colab.kernel.comms.open(id);\n",
              "      // Send a message to notify the kernel that we're ready.\n",
              "      channel.send({})\n",
              "\n",
              "      for await (const message of channel.messages) {\n",
              "        // Send a message to notify the kernel that we're ready.\n",
              "        channel.send({})\n",
              "        if (message.buffers) {\n",
              "          for (const buffer of message.buffers) {\n",
              "            buffers.push(buffer);\n",
              "            downloaded += buffer.byteLength;\n",
              "            progress.value = downloaded;\n",
              "          }\n",
              "        }\n",
              "      }\n",
              "      const blob = new Blob(buffers, {type: 'application/binary'});\n",
              "      const a = document.createElement('a');\n",
              "      a.href = window.URL.createObjectURL(blob);\n",
              "      a.download = filename;\n",
              "      div.appendChild(a);\n",
              "      a.click();\n",
              "      div.remove();\n",
              "    }\n",
              "  "
            ]
          },
          "metadata": {}
        },
        {
          "output_type": "display_data",
          "data": {
            "text/plain": [
              "<IPython.core.display.Javascript object>"
            ],
            "application/javascript": [
              "download(\"download_4e45c1c9-7b24-4b23-ad1f-ffdca9e01bf8\", \"df.pkl\", 30315)"
            ]
          },
          "metadata": {}
        },
        {
          "output_type": "display_data",
          "data": {
            "text/plain": [
              "<IPython.core.display.Javascript object>"
            ],
            "application/javascript": [
              "\n",
              "    async function download(id, filename, size) {\n",
              "      if (!google.colab.kernel.accessAllowed) {\n",
              "        return;\n",
              "      }\n",
              "      const div = document.createElement('div');\n",
              "      const label = document.createElement('label');\n",
              "      label.textContent = `Downloading \"${filename}\": `;\n",
              "      div.appendChild(label);\n",
              "      const progress = document.createElement('progress');\n",
              "      progress.max = size;\n",
              "      div.appendChild(progress);\n",
              "      document.body.appendChild(div);\n",
              "\n",
              "      const buffers = [];\n",
              "      let downloaded = 0;\n",
              "\n",
              "      const channel = await google.colab.kernel.comms.open(id);\n",
              "      // Send a message to notify the kernel that we're ready.\n",
              "      channel.send({})\n",
              "\n",
              "      for await (const message of channel.messages) {\n",
              "        // Send a message to notify the kernel that we're ready.\n",
              "        channel.send({})\n",
              "        if (message.buffers) {\n",
              "          for (const buffer of message.buffers) {\n",
              "            buffers.push(buffer);\n",
              "            downloaded += buffer.byteLength;\n",
              "            progress.value = downloaded;\n",
              "          }\n",
              "        }\n",
              "      }\n",
              "      const blob = new Blob(buffers, {type: 'application/binary'});\n",
              "      const a = document.createElement('a');\n",
              "      a.href = window.URL.createObjectURL(blob);\n",
              "      a.download = filename;\n",
              "      div.appendChild(a);\n",
              "      a.click();\n",
              "      div.remove();\n",
              "    }\n",
              "  "
            ]
          },
          "metadata": {}
        },
        {
          "output_type": "display_data",
          "data": {
            "text/plain": [
              "<IPython.core.display.Javascript object>"
            ],
            "application/javascript": [
              "download(\"download_75d2bec9-30ae-4a70-978c-7042367f9b5b\", \"X.pkl\", 11710)"
            ]
          },
          "metadata": {}
        },
        {
          "output_type": "display_data",
          "data": {
            "text/plain": [
              "<IPython.core.display.Javascript object>"
            ],
            "application/javascript": [
              "\n",
              "    async function download(id, filename, size) {\n",
              "      if (!google.colab.kernel.accessAllowed) {\n",
              "        return;\n",
              "      }\n",
              "      const div = document.createElement('div');\n",
              "      const label = document.createElement('label');\n",
              "      label.textContent = `Downloading \"${filename}\": `;\n",
              "      div.appendChild(label);\n",
              "      const progress = document.createElement('progress');\n",
              "      progress.max = size;\n",
              "      div.appendChild(progress);\n",
              "      document.body.appendChild(div);\n",
              "\n",
              "      const buffers = [];\n",
              "      let downloaded = 0;\n",
              "\n",
              "      const channel = await google.colab.kernel.comms.open(id);\n",
              "      // Send a message to notify the kernel that we're ready.\n",
              "      channel.send({})\n",
              "\n",
              "      for await (const message of channel.messages) {\n",
              "        // Send a message to notify the kernel that we're ready.\n",
              "        channel.send({})\n",
              "        if (message.buffers) {\n",
              "          for (const buffer of message.buffers) {\n",
              "            buffers.push(buffer);\n",
              "            downloaded += buffer.byteLength;\n",
              "            progress.value = downloaded;\n",
              "          }\n",
              "        }\n",
              "      }\n",
              "      const blob = new Blob(buffers, {type: 'application/binary'});\n",
              "      const a = document.createElement('a');\n",
              "      a.href = window.URL.createObjectURL(blob);\n",
              "      a.download = filename;\n",
              "      div.appendChild(a);\n",
              "      a.click();\n",
              "      div.remove();\n",
              "    }\n",
              "  "
            ]
          },
          "metadata": {}
        },
        {
          "output_type": "display_data",
          "data": {
            "text/plain": [
              "<IPython.core.display.Javascript object>"
            ],
            "application/javascript": [
              "download(\"download_7d997a73-0cbe-4267-aa6f-5684a55363b7\", \"vectorizer.pkl\", 2421)"
            ]
          },
          "metadata": {}
        }
      ]
    }
  ],
  "metadata": {
    "colab": {
      "provenance": [],
      "authorship_tag": "ABX9TyMv4Z5A+EcpxPyzQL9dwGu0",
      "include_colab_link": true
    },
    "kernelspec": {
      "display_name": "Python 3",
      "name": "python3"
    },
    "language_info": {
      "name": "python"
    }
  },
  "nbformat": 4,
  "nbformat_minor": 0
}